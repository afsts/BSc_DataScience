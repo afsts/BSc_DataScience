{
 "cells": [
  {
   "cell_type": "markdown",
   "metadata": {},
   "source": [
    "# Trabalho de Grupo Processamento de Big Data"
   ]
  },
  {
   "cell_type": "markdown",
   "metadata": {},
   "source": [
    "## Grupo 7"
   ]
  },
  {
   "cell_type": "markdown",
   "metadata": {},
   "source": [
    "### Turma CDB2\n",
    "#### Afonso Santos, 111431\n",
    "#### Afonso Lourenço, 111487\n",
    "#### Catarina Lameira, 111390\n",
    "#### Leonor Laborinho, 111287"
   ]
  },
  {
   "cell_type": "markdown",
   "metadata": {},
   "source": [
    "Base de dados utilizada: Smart meters in London"
   ]
  },
  {
   "cell_type": "markdown",
   "metadata": {},
   "source": [
    "https://www.kaggle.com/datasets/jeanmidev/smart-meters-in-london"
   ]
  },
  {
   "cell_type": "markdown",
   "metadata": {},
   "source": [
    "Docente: Adriano Lopes\n",
    "\n",
    "Maio de 2024"
   ]
  },
  {
   "cell_type": "markdown",
   "metadata": {},
   "source": [
    "## 1 Notebook"
   ]
  },
  {
   "cell_type": "markdown",
   "metadata": {},
   "source": [
    "#### Importação dos dados"
   ]
  },
  {
   "cell_type": "markdown",
   "metadata": {},
   "source": [
    "Na primeira fase do projeto, foram criados arquivos Parquet para armazenar os dados transformados, optando-se pelo formato Parquet devido à sua eficiência em termos de armazenamento e processamento de grandes volumes de dados. \n",
    "\n",
    "Importaram-se os conjuntos de dados necessários, incluindo registos de consumo energético e dados meteorológicos, e filtraram-se os dados para incluir apenas o ano de 2013, focando a análise num período específico e facilitando a identificação de padrões relevantes.\n",
    "\n",
    "Neste notebook também será feita a análise de dados de consumo energético residencial e condições meteorológicas em Londres. Após a preparação inicial dos dados, o objetivo é aprofundar a análise e categorizar os consumidores com base nos seus padrões de consumo de eletricidade ao longo de 2013. O principal objetivo é agrupar os consumidores com base na similaridade dos seus comportamentos típicos de consumo de eletricidade, facilitando a análise do conjunto de dados. Para isso, será utilizado o algoritmo de agrupamento K-means para identificar padrões nos consumos residenciais. Esta análise também levará em conta as condições meteorológicas, para fornecer uma visão mais completa sobre os fatores que influenciam o consumo energético.\n",
    "\n",
    "Iniciou-se com a importação das bibliotecas necessárias e configuração do ambiente de análise com o Apache Spark.\n"
   ]
  },
  {
   "cell_type": "markdown",
   "metadata": {},
   "source": [
    "#### Importação das bibliotecas necessárias e configuração da sessão Spark."
   ]
  },
  {
   "cell_type": "code",
   "execution_count": 1,
   "metadata": {},
   "outputs": [],
   "source": [
    "#import findspark\n",
    "#findspark.init()\n",
    "#findspark.find()\n",
    "\n",
    "import pyspark\n",
    "from pyspark.sql import SparkSession\n",
    "from pyspark.sql import SparkSession\n",
    "from pyspark.sql.types import *\n",
    "import pyspark.sql.functions as F\n",
    "from datetime import datetime\n",
    "\n",
    "# build our SparkSession\n",
    "\n",
    "spark = SparkSession\\\n",
    "        .builder\\\n",
    "        .appName(\"TrabalhoFinal\")\\\n",
    "        .config(\"spark.sql.shuffle.partitions\",6)\\\n",
    "        .config(\"spark.sql.repl.eagereval.enabled\",True)\\\n",
    "        .getOrCreate()"
   ]
  },
  {
   "cell_type": "markdown",
   "metadata": {},
   "source": [
    "Funções para filtrar e criar os Parquet\n",
    "1. `transform`: para converter colunas de data e filtrar dados para o ano de 2013.\n",
    "2. `parquet`: para guardar os dados no formato Parquet."
   ]
  },
  {
   "cell_type": "code",
   "execution_count": 2,
   "metadata": {},
   "outputs": [],
   "source": [
    "def transform(df, date_col='day', date_format='yyyy-MM-dd', filter_year=2013):\n",
    "    # Convert the date column to timestamp\n",
    "    df = df.withColumn(date_col, F.to_timestamp(df[date_col],date_format))\n",
    "        # Filter rows for the specified year\n",
    "    df = df.filter(F.year(df[date_col]) == filter_year)\n",
    "    return df\n",
    "\n",
    "def parquet(df,parquetname):\n",
    "    df.write.mode(\"overwrite\").parquet(parquetname)"
   ]
  },
  {
   "cell_type": "markdown",
   "metadata": {},
   "source": [
    "Importar os diferentes conjuntos de dados necessários para o projeto. Estes incluem:\n",
    "- Dados de consumo energético medido a cada meia hora (`halfhourly_dataset`);\n",
    "- Informações sobre os agregados familiares (`informations_households`);\n",
    "- Detalhes sobre a classificação Acorn (`acorn_details`);\n",
    "- Dados meteorológicos horários (`weather_hourly`)."
   ]
  },
  {
   "cell_type": "markdown",
   "metadata": {},
   "source": [
    "#### Halfhourly_dataset:"
   ]
  },
  {
   "cell_type": "code",
   "execution_count": 3,
   "metadata": {},
   "outputs": [
    {
     "name": "stdout",
     "output_type": "stream",
     "text": [
      "LCLid,tstp,energy(kWh/hh)\n",
      "MAC000002,2012-10-12 00:30:00.0000000, 0 \n",
      "MAC000002,2012-10-12 01:00:00.0000000, 0 \n"
     ]
    }
   ],
   "source": [
    "! head -n 3 ../Trabalho_Datasets/halfhourly_dataset/halfhourly_dataset/block_0.csv"
   ]
  },
  {
   "cell_type": "code",
   "execution_count": 4,
   "metadata": {},
   "outputs": [],
   "source": [
    "filename = '../Trabalho_Datasets/halfhourly_dataset/halfhourly_dataset'\n",
    "\n",
    "halfhourly_dataset_blocks = spark.read.csv(filename, header= True, sep=\",\")"
   ]
  },
  {
   "cell_type": "code",
   "execution_count": 5,
   "metadata": {},
   "outputs": [],
   "source": [
    "dfname='halfhourly_dataset_blocks'\n",
    "parquetname=dfname+\"_parquet\"\n",
    "parquet(halfhourly_dataset_blocks\n",
    "        ,parquetname)\n"
   ]
  },
  {
   "cell_type": "code",
   "execution_count": 6,
   "metadata": {},
   "outputs": [
    {
     "data": {
      "text/plain": [
       "167817021"
      ]
     },
     "execution_count": 6,
     "metadata": {},
     "output_type": "execute_result"
    }
   ],
   "source": [
    "dfname='halfhourly_dataset_blocks'\n",
    "parquetname=dfname+\"_parquet\"\n",
    "halfhourly_dataset_blocks = spark.read.parquet(parquetname)\n",
    "\n",
    "halfhourly_dataset_blocks.count()\n",
    "\n"
   ]
  },
  {
   "cell_type": "code",
   "execution_count": 7,
   "metadata": {},
   "outputs": [
    {
     "name": "stdout",
     "output_type": "stream",
     "text": [
      "+---------+---------------------------+--------------+\n",
      "|LCLid    |tstp                       |energy(kWh/hh)|\n",
      "+---------+---------------------------+--------------+\n",
      "|MAC000071|2011-12-10 09:30:00.0000000| 0.356        |\n",
      "|MAC000071|2011-12-10 10:00:00.0000000| 0.245        |\n",
      "|MAC000071|2011-12-10 10:30:00.0000000| 0.168        |\n",
      "|MAC000071|2011-12-10 11:00:00.0000000| 0.216        |\n",
      "|MAC000071|2011-12-10 11:30:00.0000000| 0.16         |\n",
      "|MAC000071|2011-12-10 12:00:00.0000000| 0.271        |\n",
      "|MAC000071|2011-12-10 12:30:00.0000000| 0.159        |\n",
      "|MAC000071|2011-12-10 13:00:00.0000000| 0.2          |\n",
      "|MAC000071|2011-12-10 13:30:00.0000000| 0.276        |\n",
      "|MAC000071|2011-12-10 14:00:00.0000000| 0.375        |\n",
      "+---------+---------------------------+--------------+\n",
      "only showing top 10 rows\n",
      "\n"
     ]
    }
   ],
   "source": [
    "halfhourly_dataset_blocks.show(10,truncate=False)"
   ]
  },
  {
   "cell_type": "markdown",
   "metadata": {},
   "source": [
    "Transformar e filtrar os dados para incluir apenas o ano de 2013:"
   ]
  },
  {
   "cell_type": "code",
   "execution_count": 8,
   "metadata": {},
   "outputs": [],
   "source": [
    "dfname='halfhourly_dataset_blocks'\n",
    "parquetname=dfname+\"_parquet\"\n",
    "halfhourly_dataset_blocks = spark.read.parquet(parquetname)\n",
    "\n",
    "parquetname=dfname+\"_2013_parquet\"\n",
    "df=transform(halfhourly_dataset_blocks, date_col='tstp', date_format='yyyy-MM-dd HH:mm:ss.SSSSSSS', filter_year=2013)\n",
    "parquet(df ,parquetname)\n",
    "\n",
    "del df\n",
    "del halfhourly_dataset_blocks"
   ]
  },
  {
   "cell_type": "markdown",
   "metadata": {},
   "source": [
    "#### Informations_households:"
   ]
  },
  {
   "cell_type": "code",
   "execution_count": 9,
   "metadata": {},
   "outputs": [
    {
     "name": "stdout",
     "output_type": "stream",
     "text": [
      "LCLid,stdorToU,Acorn,Acorn_grouped,file\n",
      "MAC005492,ToU,ACORN-,ACORN-,block_0\n",
      "MAC001074,ToU,ACORN-,ACORN-,block_0\n"
     ]
    }
   ],
   "source": [
    "! head -n 3 ../Trabalho_Datasets/informations_households.csv"
   ]
  },
  {
   "cell_type": "code",
   "execution_count": 10,
   "metadata": {},
   "outputs": [],
   "source": [
    "filename = '../Trabalho_Datasets/informations_households.csv'\n",
    "\n",
    "informations_households = spark.read.csv(filename, header= True, sep=\",\")\n",
    "\n",
    "dfname='informations_households'\n",
    "parquetname=dfname+\"_parquet\"\n",
    "parquet(informations_households ,parquetname)\n",
    "\n",
    "del informations_households"
   ]
  },
  {
   "cell_type": "markdown",
   "metadata": {},
   "source": [
    "#### Acorn_details:"
   ]
  },
  {
   "cell_type": "code",
   "execution_count": 11,
   "metadata": {},
   "outputs": [
    {
     "name": "stdout",
     "output_type": "stream",
     "text": [
      "MAIN CATEGORIES,CATEGORIES,REFERENCE,ACORN-A,ACORN-B,ACORN-C,ACORN-D,ACORN-E,ACORN-F,ACORN-G,ACORN-H,ACORN-I,ACORN-J,ACORN-K,ACORN-L,ACORN-M,ACORN-N,ACORN-O,ACORN-P,ACORN-Q\n",
      "POPULATION,Age,Age 0-4,77.0,83.0,72.0,100.0,120.0,77.0,97.0,97.0,63.0,119.0,67.0,114.0,113.0,89.0,123.0,138.0,133.0\n",
      "POPULATION,Age,Age 5-17,117.0,109.0,87.0,69.0,94.0,95.0,102.0,106.0,67.0,95.0,64.0,108.0,116.0,86.0,89.0,136.0,106.0\n"
     ]
    }
   ],
   "source": [
    "! head -n 3 ../Trabalho_Datasets/acorn_details.csv"
   ]
  },
  {
   "cell_type": "code",
   "execution_count": 12,
   "metadata": {},
   "outputs": [],
   "source": [
    "filename = '../Trabalho_Datasets/acorn_details.csv'\n",
    "\n",
    "acorn_details = spark.read.csv(filename, header= True, sep=\",\")\n",
    "\n",
    "dfname='acorn_details'\n",
    "parquetname=dfname+\"_parquet\"\n",
    "parquet(acorn_details ,parquetname)\n",
    "\n",
    "del acorn_details"
   ]
  },
  {
   "cell_type": "markdown",
   "metadata": {},
   "source": [
    "#### Weather_hourly:\n"
   ]
  },
  {
   "cell_type": "code",
   "execution_count": 13,
   "metadata": {},
   "outputs": [
    {
     "name": "stdout",
     "output_type": "stream",
     "text": [
      "visibility,windBearing,temperature,time,dewPoint,pressure,apparentTemperature,windSpeed,precipType,icon,humidity,summary\n",
      "5.97,104,10.24,2011-11-11 00:00:00,8.86,1016.76,10.24,2.77,rain,partly-cloudy-night,0.91,Partly Cloudy\n",
      "4.88,99,9.76,2011-11-11 01:00:00,8.83,1016.63,8.24,2.95,rain,partly-cloudy-night,0.94,Partly Cloudy\n"
     ]
    }
   ],
   "source": [
    "! head -n 3 ../Trabalho_Datasets/weather_hourly_darksky.csv/weather_hourly_darksky.csv"
   ]
  },
  {
   "cell_type": "code",
   "execution_count": 14,
   "metadata": {},
   "outputs": [],
   "source": [
    "filename = '../Trabalho_Datasets/weather_hourly_darksky.csv/weather_hourly_darksky.csv'\n",
    "\n",
    "weather_hourly = spark.read.csv(filename, header= True, sep=\",\")"
   ]
  },
  {
   "cell_type": "code",
   "execution_count": 15,
   "metadata": {},
   "outputs": [],
   "source": [
    "dfname='weather_hourly'\n",
    "parquetname=dfname+\"_parquet\"\n",
    "parquet(weather_hourly\n",
    "        ,parquetname)"
   ]
  },
  {
   "cell_type": "code",
   "execution_count": 16,
   "metadata": {},
   "outputs": [
    {
     "data": {
      "text/plain": [
       "21165"
      ]
     },
     "execution_count": 16,
     "metadata": {},
     "output_type": "execute_result"
    }
   ],
   "source": [
    "dfname='weather_hourly'\n",
    "parquetname=dfname+\"_parquet\"\n",
    "weather_hourly = spark.read.parquet(parquetname)\n",
    "\n",
    "weather_hourly.count()"
   ]
  },
  {
   "cell_type": "code",
   "execution_count": 17,
   "metadata": {},
   "outputs": [
    {
     "name": "stdout",
     "output_type": "stream",
     "text": [
      "+----------+-----------+-----------+-------------------+--------+--------+-------------------+---------+----------+-------------------+--------+-------------+\n",
      "|visibility|windBearing|temperature|time               |dewPoint|pressure|apparentTemperature|windSpeed|precipType|icon               |humidity|summary      |\n",
      "+----------+-----------+-----------+-------------------+--------+--------+-------------------+---------+----------+-------------------+--------+-------------+\n",
      "|5.97      |104        |10.24      |2011-11-11 00:00:00|8.86    |1016.76 |10.24              |2.77     |rain      |partly-cloudy-night|0.91    |Partly Cloudy|\n",
      "|4.88      |99         |9.76       |2011-11-11 01:00:00|8.83    |1016.63 |8.24               |2.95     |rain      |partly-cloudy-night|0.94    |Partly Cloudy|\n",
      "|3.7       |98         |9.46       |2011-11-11 02:00:00|8.79    |1016.36 |7.76               |3.17     |rain      |partly-cloudy-night|0.96    |Partly Cloudy|\n",
      "|3.12      |99         |9.23       |2011-11-11 03:00:00|8.63    |1016.28 |7.44               |3.25     |rain      |fog                |0.96    |Foggy        |\n",
      "|1.85      |111        |9.26       |2011-11-11 04:00:00|9.21    |1015.98 |7.24               |3.7      |rain      |fog                |1.0     |Foggy        |\n",
      "|1.96      |115        |9.33       |2011-11-11 05:00:00|8.87    |1015.91 |7.19               |3.97     |rain      |fog                |0.97    |Foggy        |\n",
      "|1.3       |118        |9.31       |2011-11-11 06:00:00|8.82    |1015.7  |7.1                |4.1      |rain      |fog                |0.97    |Foggy        |\n",
      "|1.22      |114        |8.85       |2011-11-11 07:00:00|8.69    |1016.08 |6.48               |4.23     |rain      |fog                |0.99    |Foggy        |\n",
      "|1.4       |120        |9.13       |2011-11-11 08:00:00|8.75    |1016.33 |6.84               |4.2      |rain      |fog                |0.97    |Foggy        |\n",
      "|1.38      |121        |9.23       |2011-11-11 09:00:00|8.7     |1016.57 |7.07               |3.96     |rain      |fog                |0.97    |Foggy        |\n",
      "+----------+-----------+-----------+-------------------+--------+--------+-------------------+---------+----------+-------------------+--------+-------------+\n",
      "only showing top 10 rows\n",
      "\n"
     ]
    }
   ],
   "source": [
    "weather_hourly.show(10,truncate=False)"
   ]
  },
  {
   "cell_type": "code",
   "execution_count": 18,
   "metadata": {},
   "outputs": [],
   "source": [
    "parquetname=dfname+\"_2013_parquet\"\n",
    "df=transform(weather_hourly, date_col='time', date_format='yyyy-MM-dd HH:mm:ss', filter_year=2013)\n",
    "parquet(df ,parquetname)\n",
    "\n",
    "del df\n",
    "del weather_hourly"
   ]
  },
  {
   "cell_type": "markdown",
   "metadata": {},
   "source": [
    "Nesta fase, importámos e transformámos os dados necessários para análise. Estes dados foram armazenados no formato Parquet, facilitando o seu uso nas próximas etapas do projeto, como a análise exploratória, treino de modelos e visualização dos resultados.\n"
   ]
  },
  {
   "cell_type": "markdown",
   "metadata": {},
   "source": [
    "#### Análise de Dados"
   ]
  },
  {
   "cell_type": "markdown",
   "metadata": {},
   "source": [
    "Implementação de funções auxiliares para manipulação dos dados. Os dados de consumo de energia, informações das residências e dados meteorológicos serão carregados e verificados quanto à sua integridade e estrutura. De seguida, faremos a integração desses conjuntos de dados, criando um DataFrame consolidado que permite uma análise detalhada. O conjunto de dados será enriquecido com novas colunas, como períodos do dia e identificação de fins de semana, o que facilitará a análise dos padrões de consumo. Por fim, selecionaremos as variáveis mais relevantes para focar nos aspectos mais críticos da análise e preparar os dados para as próximas etapas de exploração e modelação."
   ]
  },
  {
   "cell_type": "markdown",
   "metadata": {},
   "source": [
    "#### Funções Auxiliares\n",
    "\n",
    "Definem-se algumas funções auxiliares que ajudarão no processamento dos dados.\n",
    "\n",
    "- `parquet(df, parquetname)`: Guarda um DataFrame em formato Parquet, permitindo que os dados sejam armazenados de forma eficiente e recuperados rapidamente para análises futuras.\n",
    "- `compute_nulls_and_uniques(df, cols)`: Calcula a quantidade e a percentagem de valores nulos, NaNs e valores únicos em cada coluna de um DataFrame.\n",
    "- `get_time_period`, `is_weekend`, `extract_month`, `extract_day`, `extract_hour`, `extract_minute`: Funções para extração de componentes de data e hora:\n",
    "\n",
    "\n",
    "     - `get_time_period`: Converte uma data e hora num período do dia, como \"Morning\", \"Noon\", \"Evening\" ou \"Night\". \n",
    "     - `is_weekend`: Determina se uma data é um fim de semana. Retorna 1 se a data for um sábado ou domingo, e 0 caso contrário.\n",
    "     - `extract_month`: Extrai o mês de uma data e hora.\n",
    "     - `extract_day`: Extrai o dia de uma data e hora.\n",
    "     - `extract_minute`: Extrai o minuto de uma data e hora."
   ]
  },
  {
   "cell_type": "code",
   "execution_count": 2,
   "metadata": {},
   "outputs": [],
   "source": [
    "# Function to figure out the profile of nulls and uniques for ecah column in a DataFrame\n",
    "def parquet(df,parquetname):\n",
    "    df.write.mode(\"overwrite\").parquet(parquetname)\n",
    "\n",
    "def compute_nulls_and_uniques(df, cols):\n",
    "    total = df.count()\n",
    "    results = []\n",
    "    \n",
    "    for cl in cols:\n",
    "        # Count nulls and calculate their percentage\n",
    "        knulls = df.filter(F.col(cl).isNull()).count()\n",
    "        knullsperc = knulls / total\n",
    "        \n",
    "        # Initialize NaNs count and percentage\n",
    "        knans = 0\n",
    "        knansperc = 0\n",
    "        \n",
    "        # Check if the column is numeric before counting NaNs\n",
    "        if isinstance(df.schema[cl].dataType, (DoubleType, FloatType)):\n",
    "            knans = df.filter(F.isnan(cl)).count()\n",
    "            knansperc = knans / total\n",
    "        \n",
    "        # Count unique values and calculate their percentage\n",
    "        kuniques = df.select(cl).distinct().count()\n",
    "        kuniquesperc = kuniques / total\n",
    "        \n",
    "        # Append results\n",
    "        results.append(Row(\n",
    "            feature=cl, \n",
    "            count_nulls=knulls, \n",
    "            percentage_nulls=knullsperc,\n",
    "            count_nans=knans, \n",
    "            percentage_nans=knansperc,\n",
    "            count_uniques=kuniques, \n",
    "            percentage_uniques=kuniquesperc\n",
    "        ))\n",
    "\n",
    "    return spark.createDataFrame(results)\n",
    "\n",
    "# Define function to categorize datetime into periods\n",
    "def get_time_period(datetime_str):\n",
    "    if isinstance(datetime_str, datetime):\n",
    "        datetime_str = datetime_str.strftime(\"%Y-%m-%d %H:%M:%S\")\n",
    "    hour = datetime.strptime(datetime_str, \"%Y-%m-%d %H:%M:%S\").hour\n",
    "    if 6 <= hour < 12:\n",
    "        return \"Morning\"\n",
    "    elif 12 <= hour < 18:\n",
    "        return \"Noon\"\n",
    "    elif 18 <= hour < 24:\n",
    "        return \"Evening\"\n",
    "    else:\n",
    "        return \"Night\"\n",
    "    \n",
    "# Define function to detect weekends\n",
    "def is_weekend(date):\n",
    "    if isinstance(date, str):\n",
    "        date_obj = datetime.strptime(date, \"%Y-%m-%d\")\n",
    "    elif isinstance(date, datetime):\n",
    "        date_obj = date\n",
    "    else:\n",
    "        raise TypeError(\"Input must be a string or datetime object\")\n",
    "        \n",
    "    return 1 if date_obj.weekday() in [5, 6] else 0\n",
    "\n",
    "# Define functions to extract each component\n",
    "def extract_month(datetime_str):\n",
    "    if isinstance(datetime_str, datetime):\n",
    "        datetime_str = datetime_str.strftime(\"%Y-%m-%d %H:%M:%S\")\n",
    "    return datetime.strptime(datetime_str, \"%Y-%m-%d %H:%M:%S\").month\n",
    "\n",
    "def extract_day(datetime_str):\n",
    "    if isinstance(datetime_str, datetime):\n",
    "        datetime_str = datetime_str.strftime(\"%Y-%m-%d %H:%M:%S\")\n",
    "    return datetime.strptime(datetime_str, \"%Y-%m-%d %H:%M:%S\").day\n",
    "\n",
    "def extract_hour(datetime_str):\n",
    "    if isinstance(datetime_str, datetime):\n",
    "        datetime_str = datetime_str.strftime(\"%Y-%m-%d %H:%M:%S\")\n",
    "    return datetime.strptime(datetime_str, \"%Y-%m-%d %H:%M:%S\").hour\n",
    "\n",
    "def extract_minute(datetime_str):\n",
    "    if isinstance(datetime_str, datetime):\n",
    "        datetime_str = datetime_str.strftime(\"%Y-%m-%d %H:%M:%S\")\n",
    "    return datetime.strptime(datetime_str, \"%Y-%m-%d %H:%M:%S\").minute\n",
    "\n",
    "\n"
   ]
  },
  {
   "cell_type": "markdown",
   "metadata": {},
   "source": [
    "#### Leitura dos Ficheiros Parquet"
   ]
  },
  {
   "cell_type": "markdown",
   "metadata": {},
   "source": [
    "#### Análise dos Dados de Consumo de Energia"
   ]
  },
  {
   "cell_type": "markdown",
   "metadata": {},
   "source": [
    "Carregam-se os dados de consumo de energia, provenientes da base de dados `halfhourly_dataset_blocks_2013_parquet`, e verifica-se o número de registos e a estrutura dos dados."
   ]
  },
  {
   "cell_type": "code",
   "execution_count": 3,
   "metadata": {},
   "outputs": [],
   "source": [
    "consumos_meiahora = spark.read.parquet(\"halfhourly_dataset_blocks_2013_parquet\")"
   ]
  },
  {
   "cell_type": "code",
   "execution_count": 4,
   "metadata": {},
   "outputs": [
    {
     "data": {
      "text/plain": [
       "93024229"
      ]
     },
     "execution_count": 4,
     "metadata": {},
     "output_type": "execute_result"
    }
   ],
   "source": [
    "consumos_meiahora.count()"
   ]
  },
  {
   "cell_type": "code",
   "execution_count": 5,
   "metadata": {},
   "outputs": [
    {
     "name": "stdout",
     "output_type": "stream",
     "text": [
      "+---------+-------------------+--------------+\n",
      "|LCLid    |tstp               |energy(kWh/hh)|\n",
      "+---------+-------------------+--------------+\n",
      "|MAC000071|2013-01-01 00:00:00| 0.113        |\n",
      "|MAC000071|2013-01-01 00:30:00| 0.062        |\n",
      "|MAC000071|2013-01-01 01:00:00| 0.107        |\n",
      "|MAC000071|2013-01-01 01:30:00| 0.069        |\n",
      "|MAC000071|2013-01-01 02:00:00| 0.102        |\n",
      "+---------+-------------------+--------------+\n",
      "only showing top 5 rows\n",
      "\n"
     ]
    }
   ],
   "source": [
    "consumos_meiahora.show(5, truncate=False)"
   ]
  },
  {
   "cell_type": "markdown",
   "metadata": {},
   "source": [
    "Os dados de consumo de energia contêm 93.024.229 registos, com três colunas: `LCLid`, `tstp` e `energy(kWh/hh)`. Estes dados representam o consumo de energia a cada meia hora para diferentes residências ao longo de 2013.\n"
   ]
  },
  {
   "cell_type": "code",
   "execution_count": 6,
   "metadata": {},
   "outputs": [],
   "source": [
    "consumos_meiahora_nulls_uniques = compute_nulls_and_uniques(consumos_meiahora,consumos_meiahora.columns)"
   ]
  },
  {
   "cell_type": "code",
   "execution_count": 7,
   "metadata": {},
   "outputs": [
    {
     "name": "stdout",
     "output_type": "stream",
     "text": [
      "+--------------+-----------+----------------+----------+---------------+-------------+--------------------+\n",
      "|feature       |count_nulls|percentage_nulls|count_nans|percentage_nans|count_uniques|percentage_uniques  |\n",
      "+--------------+-----------+----------------+----------+---------------+-------------+--------------------+\n",
      "|LCLid         |0          |0.0             |0         |0              |5528         |5.94253783065485E-5 |\n",
      "|tstp          |0          |0.0             |0         |0              |17530        |1.884455285299919E-4|\n",
      "|energy(kWh/hh)|0          |0.0             |0         |0              |6757         |7.263699008996893E-5|\n",
      "+--------------+-----------+----------------+----------+---------------+-------------+--------------------+\n",
      "\n"
     ]
    }
   ],
   "source": [
    "consumos_meiahora_nulls_uniques.show(100, truncate=False)"
   ]
  },
  {
   "cell_type": "markdown",
   "metadata": {},
   "source": [
    "A análise revela que não existem valores nulos ou NaNs nas colunas dos dados de consumo de energia. A coluna `LCLid` possui 5.528 valores únicos, indicando o número de residências distintas. A coluna `tstp` possui 17.530 valores únicos, que representam diferentes carimbos temporais. A coluna `energy(kWh/hh)` possui 6.757 valores únicos, refletindo a variabilidade nos consumos de energia."
   ]
  },
  {
   "cell_type": "markdown",
   "metadata": {},
   "source": [
    "#### Análise dos Dados das Casas"
   ]
  },
  {
   "cell_type": "markdown",
   "metadata": {},
   "source": [
    "Carregam-se os dados de informações das casas (aglomerados familiares) provenientes da base de dados `informations_households_parquet` e verifica-se o número de registos e a estrutura dos dados."
   ]
  },
  {
   "cell_type": "code",
   "execution_count": 4,
   "metadata": {},
   "outputs": [],
   "source": [
    "informacao_casas=spark.read.parquet(\"informations_households_parquet\")"
   ]
  },
  {
   "cell_type": "code",
   "execution_count": 9,
   "metadata": {},
   "outputs": [
    {
     "data": {
      "text/plain": [
       "5566"
      ]
     },
     "execution_count": 9,
     "metadata": {},
     "output_type": "execute_result"
    }
   ],
   "source": [
    "informacao_casas.count()"
   ]
  },
  {
   "cell_type": "code",
   "execution_count": 10,
   "metadata": {},
   "outputs": [
    {
     "name": "stdout",
     "output_type": "stream",
     "text": [
      "+---------+--------+-------+-------------+-------+\n",
      "|LCLid    |stdorToU|Acorn  |Acorn_grouped|file   |\n",
      "+---------+--------+-------+-------------+-------+\n",
      "|MAC005492|ToU     |ACORN- |ACORN-       |block_0|\n",
      "|MAC001074|ToU     |ACORN- |ACORN-       |block_0|\n",
      "|MAC000002|Std     |ACORN-A|Affluent     |block_0|\n",
      "|MAC003613|Std     |ACORN-A|Affluent     |block_0|\n",
      "|MAC003597|Std     |ACORN-A|Affluent     |block_0|\n",
      "+---------+--------+-------+-------------+-------+\n",
      "only showing top 5 rows\n",
      "\n"
     ]
    }
   ],
   "source": [
    "informacao_casas.show(5, truncate=False)"
   ]
  },
  {
   "cell_type": "markdown",
   "metadata": {},
   "source": [
    "Os dados de informações das casas contêm 5.566 registos, com cinco colunas: `LCLid`, `stdorToU`, `Acorn`, `Acorn_grouped` e `file`. Estes dados fornecem informações adicionais sobre cada residência, como o tipo de tarifa (`stdorToU`), a classificação socioeconómica (`Acorn` e `Acorn_grouped`) e onde está a respetiva residência (dados de consumo) (`file`)."
   ]
  },
  {
   "cell_type": "code",
   "execution_count": 11,
   "metadata": {},
   "outputs": [],
   "source": [
    "informacao_casas_nulls_uniques = compute_nulls_and_uniques(informacao_casas,informacao_casas.columns)"
   ]
  },
  {
   "cell_type": "code",
   "execution_count": 12,
   "metadata": {},
   "outputs": [
    {
     "name": "stdout",
     "output_type": "stream",
     "text": [
      "+-------------+-----------+----------------+----------+---------------+-------------+---------------------+\n",
      "|feature      |count_nulls|percentage_nulls|count_nans|percentage_nans|count_uniques|percentage_uniques   |\n",
      "+-------------+-----------+----------------+----------+---------------+-------------+---------------------+\n",
      "|LCLid        |0          |0.0             |0         |0              |5566         |1.0                  |\n",
      "|stdorToU     |0          |0.0             |0         |0              |2            |3.5932446999640676E-4|\n",
      "|Acorn        |0          |0.0             |0         |0              |19           |0.003413582464965864 |\n",
      "|Acorn_grouped|0          |0.0             |0         |0              |5            |8.983111749910168E-4 |\n",
      "|file         |0          |0.0             |0         |0              |112          |0.02012217031979878  |\n",
      "+-------------+-----------+----------------+----------+---------------+-------------+---------------------+\n",
      "\n"
     ]
    }
   ],
   "source": [
    "informacao_casas_nulls_uniques.show(100, truncate=False)"
   ]
  },
  {
   "cell_type": "markdown",
   "metadata": {},
   "source": [
    "A análise revela que não existem valores nulos ou NaNs nas colunas dos dados de informações das casas. A coluna `LCLid` possui 5.566 valores únicos, correspondendo ao número de residências. A coluna `stdorToU` possui 2 valores únicos, indicando os diferentes tipos de tarifas. As colunas `Acorn` e `Acorn_grouped` possuem 19 e 5 valores únicos, respectivamente, representando diferentes classificações socioeconómicas. A coluna `file` possui 112 valores únicos, refletindo a origem dos dados."
   ]
  },
  {
   "cell_type": "markdown",
   "metadata": {},
   "source": [
    "#### Análise dos Dados Meteorológicos"
   ]
  },
  {
   "cell_type": "markdown",
   "metadata": {},
   "source": [
    "Carregam-se os dados metereológicos provenientes da base de dados `weather_hourly_2013_parquete` e verifica-se o número de registos e a estrutura dos dados."
   ]
  },
  {
   "cell_type": "code",
   "execution_count": 5,
   "metadata": {},
   "outputs": [],
   "source": [
    "meterologia_hora= spark.read.parquet(\"weather_hourly_2013_parquet\")"
   ]
  },
  {
   "cell_type": "code",
   "execution_count": 14,
   "metadata": {},
   "outputs": [
    {
     "data": {
      "text/plain": [
       "8758"
      ]
     },
     "execution_count": 14,
     "metadata": {},
     "output_type": "execute_result"
    }
   ],
   "source": [
    "meterologia_hora.count()"
   ]
  },
  {
   "cell_type": "code",
   "execution_count": 6,
   "metadata": {},
   "outputs": [
    {
     "name": "stdout",
     "output_type": "stream",
     "text": [
      "+----------+-----------+-----------+-------------------+--------+--------+-------------------+---------+----------+-------------------+--------+-------------+\n",
      "|visibility|windBearing|temperature|time               |dewPoint|pressure|apparentTemperature|windSpeed|precipType|icon               |humidity|summary      |\n",
      "+----------+-----------+-----------+-------------------+--------+--------+-------------------+---------+----------+-------------------+--------+-------------+\n",
      "|13.28     |269        |7.01       |2013-01-01 00:00:00|2.6     |1008.19 |3.66               |5.46     |rain      |partly-cloudy-night|0.73    |Partly Cloudy|\n",
      "|13.07     |273        |7.49       |2013-01-01 01:00:00|2.73    |1008.75 |4.24               |5.51     |rain      |partly-cloudy-night|0.72    |Partly Cloudy|\n",
      "|13.52     |274        |7.16       |2013-01-01 02:00:00|1.73    |1009.47 |3.74               |5.74     |rain      |partly-cloudy-night|0.68    |Partly Cloudy|\n",
      "|13.07     |272        |7.04       |2013-01-01 03:00:00|1.61    |1010.07 |3.89               |4.98     |rain      |partly-cloudy-night|0.68    |Partly Cloudy|\n",
      "|13.52     |259        |6.29       |2013-01-01 04:00:00|1.8     |1010.72 |3.34               |4.2      |rain      |partly-cloudy-night|0.73    |Partly Cloudy|\n",
      "|12.63     |255        |6.2        |2013-01-01 05:00:00|1.84    |1011.58 |3.14               |4.37     |rain      |partly-cloudy-night|0.74    |Partly Cloudy|\n",
      "|12.84     |258        |5.73       |2013-01-01 06:00:00|1.83    |1012.59 |2.39               |4.71     |rain      |partly-cloudy-night|0.76    |Partly Cloudy|\n",
      "|13.23     |261        |5.04       |2013-01-01 07:00:00|1.93    |1013.39 |1.29               |5.22     |rain      |partly-cloudy-night|0.8     |Partly Cloudy|\n",
      "|13.95     |256        |5.76       |2013-01-01 08:00:00|1.98    |1014.1  |2.34               |4.86     |rain      |partly-cloudy-night|0.77    |Partly Cloudy|\n",
      "|13.95     |259        |5.36       |2013-01-01 09:00:00|2.02    |1015.28 |2.03               |4.48     |rain      |partly-cloudy-day  |0.79    |Partly Cloudy|\n",
      "+----------+-----------+-----------+-------------------+--------+--------+-------------------+---------+----------+-------------------+--------+-------------+\n",
      "only showing top 10 rows\n",
      "\n"
     ]
    }
   ],
   "source": [
    "meterologia_hora=meterologia_hora.orderBy(\"time\")\n",
    "meterologia_hora.show(10, truncate=False)"
   ]
  },
  {
   "cell_type": "markdown",
   "metadata": {},
   "source": [
    "A tabela apresenta dados meteorológicos horários, conforme os seguintes campos:\n",
    "\n",
    "- `visibility`: Visibilidade em quilometros.\n",
    "- `windBearing`: Direção do vento em graus.\n",
    "- `temperature`: Temperatura em graus Celsius.\n",
    "- `time`: Data e hora da medição.\n",
    "- `dewPoint`: Ponto de orvalho em graus Celsius.\n",
    "- `pressure`: Pressão atmosférica em milibares.\n",
    "- `apparentTemperature`: Temperatura aparente em graus Celsius.\n",
    "- `windSpeed`: Velocidade do vento em quilometros por hora.\n",
    "- `precipType`: Tipo de precipitação (chuva, neve, etc.).\n",
    "- `icon`: Icon a representar as condições climáticas.\n",
    "- `humidity`: Humidade relativa do ar.\n",
    "- `summary`: Resumo das condições climáticas.\n"
   ]
  },
  {
   "cell_type": "markdown",
   "metadata": {},
   "source": [
    "#### Join dos DataFrames para Obter um DataFrame Mais Completo (`informacao_casas` com `consumos_meiahora`)"
   ]
  },
  {
   "cell_type": "markdown",
   "metadata": {},
   "source": [
    "Realiza-se esta etapa com o objetivo de combinar diferentes conjuntos de dados num único DataFrame consolidado que contenha todas as informações relevantes para a análise subsequente. Neste caso específico, estamos a unir dados de consumo de energia  com informações sobre as residências.\n",
    "\n",
    "Das colunas pertencentes à base de dados `informacao_casas`, seleciona-se as que consideramos mais relevantes ('LCLid', 'stdorToU', 'Acorn', 'Acorn_grouped') e une-se a base de dados com essas colunas a `consumos_meiahora`, utilizando a coluna 'LCLid' como chave de união.\n",
    "\n",
    "Após o join, renomeia-se a coluna 'tstp' para 'time' para facilitar a identificação de registos temporais e simplificar futuras operações com os dados."
   ]
  },
  {
   "cell_type": "code",
   "execution_count": 7,
   "metadata": {},
   "outputs": [],
   "source": [
    "other_df_selected = informacao_casas.select('LCLid', 'stdorToU', 'Acorn', 'Acorn_grouped')\n",
    "\n",
    "# Perform the join\n",
    "result_df = consumos_meiahora.join(other_df_selected, on='LCLid', how='inner')\n",
    "\n",
    "result_df=result_df.withColumnRenamed('tstp', 'time')\n"
   ]
  },
  {
   "cell_type": "code",
   "execution_count": 17,
   "metadata": {},
   "outputs": [
    {
     "name": "stdout",
     "output_type": "stream",
     "text": [
      "+---------+-------------------+--------------+--------+-------+-------------+\n",
      "|LCLid    |time               |energy(kWh/hh)|stdorToU|Acorn  |Acorn_grouped|\n",
      "+---------+-------------------+--------------+--------+-------+-------------+\n",
      "|MAC000071|2013-01-01 00:00:00| 0.113        |ToU     |ACORN-J|Comfortable  |\n",
      "|MAC000071|2013-01-01 00:30:00| 0.062        |ToU     |ACORN-J|Comfortable  |\n",
      "|MAC000071|2013-01-01 01:00:00| 0.107        |ToU     |ACORN-J|Comfortable  |\n",
      "|MAC000071|2013-01-01 01:30:00| 0.069        |ToU     |ACORN-J|Comfortable  |\n",
      "|MAC000071|2013-01-01 02:00:00| 0.102        |ToU     |ACORN-J|Comfortable  |\n",
      "|MAC000071|2013-01-01 02:30:00| 0.073        |ToU     |ACORN-J|Comfortable  |\n",
      "|MAC000071|2013-01-01 03:00:00| 0.099        |ToU     |ACORN-J|Comfortable  |\n",
      "|MAC000071|2013-01-01 03:30:00| 0.079        |ToU     |ACORN-J|Comfortable  |\n",
      "|MAC000071|2013-01-01 04:00:00| 0.091        |ToU     |ACORN-J|Comfortable  |\n",
      "|MAC000071|2013-01-01 04:30:00| 0.085        |ToU     |ACORN-J|Comfortable  |\n",
      "+---------+-------------------+--------------+--------+-------+-------------+\n",
      "only showing top 10 rows\n",
      "\n"
     ]
    }
   ],
   "source": [
    "result_df.show(10,truncate=False)"
   ]
  },
  {
   "cell_type": "markdown",
   "metadata": {},
   "source": [
    "Assim, obtem-se uma base de dados que apresenta dados de consumo de energia em intervalos de meia hora, com os seguintes campos:\n",
    "\n",
    "- `LCLid`: Identificador único do consumidor, usado para distinguir cada residência.\n",
    "- `time`: Data e hora do registro de consumo de energia\n",
    "- `energy(kWh/hh)`: Consumo de energia em kilowatt-hora por meia hora.\n",
    "- `stdorToU`: Tipo de tarifa de energia (tarifa padrão: standard ou tarifa baseada em horário de uso: time-of-use).\n",
    "- `Acorn`: Categoria de classificação socioeconómica do client, baseada no sistema ACORN (A Classification of Residential Neighborhoods).\n",
    "- `Acorn_grouped`: Grupo de classificação socioeconómica do cliente (Divide as categorias ACORN em 18 grupos, que incluem perfis como Afluente, Confortável e Adversidade)."
   ]
  },
  {
   "cell_type": "markdown",
   "metadata": {},
   "source": [
    "#### Join dos DataFrames para Obter um DataFrame Mais Completo (juntar `metereologia_hora` ao  criado antes)"
   ]
  },
  {
   "cell_type": "markdown",
   "metadata": {},
   "source": [
    "De forma a poder fazer a junção desta nova base de dados com `metereologia_hora`, é necessário primeiro corrigir os minutos da base de dados criada. Uma vez que os dados metereológicos estão registados de hora a hora, e os dados de consumo de energia estão registados de meia em meia hora, mostra-se essencial ajustar os minutos da coluna 'time' para zero, de forma a que seja possível unir a base de dados referente aos dados metereológicos, à base de dados criada anteriormente (que contém os dados de consumo energético unidos com as informações das casas).\n",
    "\n",
    "Após isto ser feito, tem-se a garantia que a data e hora das duas bases de dados estejam uniformemente formatadas em intervalos de uma hora. Cria-se uma nova coluna, 'time weather' que contém a data e hora corrigida. \n",
    "Nos dados metereológicos, a coluna 'time' é renomeada para 'time weather' para que possa corresponder à coluna criada nos dados de consumo de energia.\n",
    "\n",
    "Com as duas colunas 'time weather' preparadas e uniformemente formatadas, realiza-se o join entre os dados de consumo de energia e os dados meteorológicos."
   ]
  },
  {
   "cell_type": "code",
   "execution_count": 8,
   "metadata": {},
   "outputs": [
    {
     "name": "stdout",
     "output_type": "stream",
     "text": [
      "+---------+-------------------+--------------+--------+-------+-------------+-------------------+\n",
      "|LCLid    |time               |energy(kWh/hh)|stdorToU|Acorn  |Acorn_grouped|time weather       |\n",
      "+---------+-------------------+--------------+--------+-------+-------------+-------------------+\n",
      "|MAC000071|2013-01-01 00:00:00| 0.113        |ToU     |ACORN-J|Comfortable  |2013-01-01 00:00:00|\n",
      "|MAC000071|2013-01-01 00:30:00| 0.062        |ToU     |ACORN-J|Comfortable  |2013-01-01 00:00:00|\n",
      "|MAC000071|2013-01-01 01:00:00| 0.107        |ToU     |ACORN-J|Comfortable  |2013-01-01 01:00:00|\n",
      "|MAC000071|2013-01-01 01:30:00| 0.069        |ToU     |ACORN-J|Comfortable  |2013-01-01 01:00:00|\n",
      "|MAC000071|2013-01-01 02:00:00| 0.102        |ToU     |ACORN-J|Comfortable  |2013-01-01 02:00:00|\n",
      "|MAC000071|2013-01-01 02:30:00| 0.073        |ToU     |ACORN-J|Comfortable  |2013-01-01 02:00:00|\n",
      "|MAC000071|2013-01-01 03:00:00| 0.099        |ToU     |ACORN-J|Comfortable  |2013-01-01 03:00:00|\n",
      "|MAC000071|2013-01-01 03:30:00| 0.079        |ToU     |ACORN-J|Comfortable  |2013-01-01 03:00:00|\n",
      "|MAC000071|2013-01-01 04:00:00| 0.091        |ToU     |ACORN-J|Comfortable  |2013-01-01 04:00:00|\n",
      "|MAC000071|2013-01-01 04:30:00| 0.085        |ToU     |ACORN-J|Comfortable  |2013-01-01 04:00:00|\n",
      "+---------+-------------------+--------------+--------+-------+-------------+-------------------+\n",
      "only showing top 10 rows\n",
      "\n"
     ]
    }
   ],
   "source": [
    "#Corrigir os minutos (para = 0) de modo a fazer left join\n",
    "result_df = result_df.withColumn(\"time weather\", F.date_format(F.col(\"time\"), \"yyyy-MM-dd HH:00:00\"))\n",
    "\n",
    "result_df.show(10,truncate=False)"
   ]
  },
  {
   "cell_type": "code",
   "execution_count": 19,
   "metadata": {},
   "outputs": [],
   "source": [
    "# Assuming 'time' column is in string format\n",
    "#result_df =result_df.withColumn('time unix', F.unix_timestamp(result_df['time'], 'yyyy-MM-dd HH:mm:ss'))\n",
    "\n",
    "# Show the DataFrame\n",
    "#result_df.show(10,truncate=False)\n"
   ]
  },
  {
   "cell_type": "code",
   "execution_count": 9,
   "metadata": {},
   "outputs": [
    {
     "name": "stdout",
     "output_type": "stream",
     "text": [
      "+----------+-----------+-----------+-------------------+--------+--------+-------------------+---------+----------+-------------------+--------+-------------+\n",
      "|visibility|windBearing|temperature|       time weather|dewPoint|pressure|apparentTemperature|windSpeed|precipType|               icon|humidity|      summary|\n",
      "+----------+-----------+-----------+-------------------+--------+--------+-------------------+---------+----------+-------------------+--------+-------------+\n",
      "|     13.28|        269|       7.01|2013-01-01 00:00:00|     2.6| 1008.19|               3.66|     5.46|      rain|partly-cloudy-night|    0.73|Partly Cloudy|\n",
      "|     13.07|        273|       7.49|2013-01-01 01:00:00|    2.73| 1008.75|               4.24|     5.51|      rain|partly-cloudy-night|    0.72|Partly Cloudy|\n",
      "|     13.52|        274|       7.16|2013-01-01 02:00:00|    1.73| 1009.47|               3.74|     5.74|      rain|partly-cloudy-night|    0.68|Partly Cloudy|\n",
      "|     13.07|        272|       7.04|2013-01-01 03:00:00|    1.61| 1010.07|               3.89|     4.98|      rain|partly-cloudy-night|    0.68|Partly Cloudy|\n",
      "|     13.52|        259|       6.29|2013-01-01 04:00:00|     1.8| 1010.72|               3.34|      4.2|      rain|partly-cloudy-night|    0.73|Partly Cloudy|\n",
      "|     12.63|        255|        6.2|2013-01-01 05:00:00|    1.84| 1011.58|               3.14|     4.37|      rain|partly-cloudy-night|    0.74|Partly Cloudy|\n",
      "|     12.84|        258|       5.73|2013-01-01 06:00:00|    1.83| 1012.59|               2.39|     4.71|      rain|partly-cloudy-night|    0.76|Partly Cloudy|\n",
      "|     13.23|        261|       5.04|2013-01-01 07:00:00|    1.93| 1013.39|               1.29|     5.22|      rain|partly-cloudy-night|     0.8|Partly Cloudy|\n",
      "|     13.95|        256|       5.76|2013-01-01 08:00:00|    1.98|  1014.1|               2.34|     4.86|      rain|partly-cloudy-night|    0.77|Partly Cloudy|\n",
      "|     13.95|        259|       5.36|2013-01-01 09:00:00|    2.02| 1015.28|               2.03|     4.48|      rain|  partly-cloudy-day|    0.79|Partly Cloudy|\n",
      "|     13.92|        260|       5.22|2013-01-01 10:00:00|    2.06| 1016.15|               2.11|     4.03|      rain|  partly-cloudy-day|     0.8|Partly Cloudy|\n",
      "|     13.23|        263|       4.44|2013-01-01 11:00:00|    1.99| 1016.97|               1.17|      4.0|      rain|  partly-cloudy-day|    0.84|Mostly Cloudy|\n",
      "|     13.23|        256|       4.01|2013-01-01 12:00:00|    2.08| 1017.77|               0.55|     4.15|      rain|  partly-cloudy-day|    0.87|Partly Cloudy|\n",
      "|     13.16|        251|       3.94|2013-01-01 13:00:00|    2.13| 1018.37|               0.68|      3.8|      rain|  partly-cloudy-day|    0.88|Mostly Cloudy|\n",
      "|     13.23|        246|       3.37|2013-01-01 14:00:00|    2.03| 1019.14|               0.36|     3.25|      rain|  partly-cloudy-day|    0.91|Partly Cloudy|\n",
      "|     13.08|        245|       3.31|2013-01-01 15:00:00|    2.04| 1020.07|                0.5|     2.97|      rain|          clear-day|    0.91|        Clear|\n",
      "|      13.9|        246|       3.34|2013-01-01 16:00:00|    2.44| 1020.48|               0.23|     3.37|      rain|partly-cloudy-night|    0.94|Partly Cloudy|\n",
      "|     13.08|        252|       3.36|2013-01-01 17:00:00|    2.05| 1021.31|               0.48|     3.06|      rain|        clear-night|    0.91|        Clear|\n",
      "|     12.81|        248|        3.5|2013-01-01 18:00:00|    2.26| 1022.01|               0.66|     3.05|      rain|partly-cloudy-night|    0.92|Mostly Cloudy|\n",
      "|     12.39|        247|       4.42|2013-01-01 19:00:00|    3.07| 1022.57|               1.68|     3.17|      rain|partly-cloudy-night|    0.91|Partly Cloudy|\n",
      "+----------+-----------+-----------+-------------------+--------+--------+-------------------+---------+----------+-------------------+--------+-------------+\n",
      "only showing top 20 rows\n",
      "\n"
     ]
    }
   ],
   "source": [
    "# Assuming 'time' column is in string format\n",
    "#meterologia_hora  = meterologia_hora.withColumn('time unix', F.unix_timestamp(meterologia_hora['time'], 'yyyy-MM-dd HH:mm:ss'))\n",
    "\n",
    "meterologia_hora  = meterologia_hora.withColumnRenamed('time', 'time weather')\n",
    "\n",
    "# Show the DataFrame\n",
    "meterologia_hora.show()"
   ]
  },
  {
   "cell_type": "markdown",
   "metadata": {},
   "source": [
    "Join entre os DataFrames `result_df` e `metereologia_hora` usando a coluna 'time weather' como chave:"
   ]
  },
  {
   "cell_type": "code",
   "execution_count": 10,
   "metadata": {},
   "outputs": [
    {
     "name": "stdout",
     "output_type": "stream",
     "text": [
      "+-------------------+---------+-------------------+--------------+--------+-------+-------------+----------+-----------+-----------+--------+--------+-------------------+---------+----------+-------------------+--------+-------------+\n",
      "|time weather       |LCLid    |time               |energy(kWh/hh)|stdorToU|Acorn  |Acorn_grouped|visibility|windBearing|temperature|dewPoint|pressure|apparentTemperature|windSpeed|precipType|icon               |humidity|summary      |\n",
      "+-------------------+---------+-------------------+--------------+--------+-------+-------------+----------+-----------+-----------+--------+--------+-------------------+---------+----------+-------------------+--------+-------------+\n",
      "|2013-01-01 00:00:00|MAC000071|2013-01-01 00:00:00| 0.113        |ToU     |ACORN-J|Comfortable  |13.28     |269        |7.01       |2.6     |1008.19 |3.66               |5.46     |rain      |partly-cloudy-night|0.73    |Partly Cloudy|\n",
      "|2013-01-01 00:00:00|MAC000071|2013-01-01 00:30:00| 0.062        |ToU     |ACORN-J|Comfortable  |13.28     |269        |7.01       |2.6     |1008.19 |3.66               |5.46     |rain      |partly-cloudy-night|0.73    |Partly Cloudy|\n",
      "|2013-01-01 01:00:00|MAC000071|2013-01-01 01:00:00| 0.107        |ToU     |ACORN-J|Comfortable  |13.07     |273        |7.49       |2.73    |1008.75 |4.24               |5.51     |rain      |partly-cloudy-night|0.72    |Partly Cloudy|\n",
      "|2013-01-01 01:00:00|MAC000071|2013-01-01 01:30:00| 0.069        |ToU     |ACORN-J|Comfortable  |13.07     |273        |7.49       |2.73    |1008.75 |4.24               |5.51     |rain      |partly-cloudy-night|0.72    |Partly Cloudy|\n",
      "|2013-01-01 02:00:00|MAC000071|2013-01-01 02:00:00| 0.102        |ToU     |ACORN-J|Comfortable  |13.52     |274        |7.16       |1.73    |1009.47 |3.74               |5.74     |rain      |partly-cloudy-night|0.68    |Partly Cloudy|\n",
      "+-------------------+---------+-------------------+--------------+--------+-------+-------------+----------+-----------+-----------+--------+--------+-------------------+---------+----------+-------------------+--------+-------------+\n",
      "only showing top 5 rows\n",
      "\n",
      "-RECORD 0----------------------------------\n",
      " time weather        | 2013-01-01 00:00:00 \n",
      " LCLid               | MAC000071           \n",
      " time                | 2013-01-01 00:00:00 \n",
      " energy(kWh/hh)      |  0.113              \n",
      " stdorToU            | ToU                 \n",
      " Acorn               | ACORN-J             \n",
      " Acorn_grouped       | Comfortable         \n",
      " visibility          | 13.28               \n",
      " windBearing         | 269                 \n",
      " temperature         | 7.01                \n",
      " dewPoint            | 2.6                 \n",
      " pressure            | 1008.19             \n",
      " apparentTemperature | 3.66                \n",
      " windSpeed           | 5.46                \n",
      " precipType          | rain                \n",
      " icon                | partly-cloudy-night \n",
      " humidity            | 0.73                \n",
      " summary             | Partly Cloudy       \n",
      "only showing top 1 row\n",
      "\n"
     ]
    }
   ],
   "source": [
    "join_df = result_df.join(meterologia_hora, on='time weather', how='left')\n",
    "\n",
    "join_df.show(5,truncate=False)\n",
    "join_df.show(1,truncate=False,vertical=True)"
   ]
  },
  {
   "cell_type": "markdown",
   "metadata": {},
   "source": [
    "#### Adição de novas colunas:"
   ]
  },
  {
   "cell_type": "markdown",
   "metadata": {},
   "source": [
    "Regista-se a função 'get_time_period' como uma UDF (User Defined Function) e adiciona-se uma nova coluna `period_of_day` que indica o período do dia (\"Morning\", \"Noon\", \"Evening\" ou \"Night\") baseado na coluna 'time'."
   ]
  },
  {
   "cell_type": "code",
   "execution_count": 11,
   "metadata": {},
   "outputs": [
    {
     "name": "stdout",
     "output_type": "stream",
     "text": [
      "+-------------------+---------+-------------------+--------------+--------+-------+-------------+----------+-----------+-----------+--------+--------+-------------------+---------+----------+-------------------+--------+-------------+-------------+\n",
      "|       time weather|    LCLid|               time|energy(kWh/hh)|stdorToU|  Acorn|Acorn_grouped|visibility|windBearing|temperature|dewPoint|pressure|apparentTemperature|windSpeed|precipType|               icon|humidity|      summary|period_of_day|\n",
      "+-------------------+---------+-------------------+--------------+--------+-------+-------------+----------+-----------+-----------+--------+--------+-------------------+---------+----------+-------------------+--------+-------------+-------------+\n",
      "|2013-01-01 00:00:00|MAC000071|2013-01-01 00:00:00|        0.113 |     ToU|ACORN-J|  Comfortable|     13.28|        269|       7.01|     2.6| 1008.19|               3.66|     5.46|      rain|partly-cloudy-night|    0.73|Partly Cloudy|        Night|\n",
      "|2013-01-01 00:00:00|MAC000071|2013-01-01 00:30:00|        0.062 |     ToU|ACORN-J|  Comfortable|     13.28|        269|       7.01|     2.6| 1008.19|               3.66|     5.46|      rain|partly-cloudy-night|    0.73|Partly Cloudy|        Night|\n",
      "|2013-01-01 01:00:00|MAC000071|2013-01-01 01:00:00|        0.107 |     ToU|ACORN-J|  Comfortable|     13.07|        273|       7.49|    2.73| 1008.75|               4.24|     5.51|      rain|partly-cloudy-night|    0.72|Partly Cloudy|        Night|\n",
      "|2013-01-01 01:00:00|MAC000071|2013-01-01 01:30:00|        0.069 |     ToU|ACORN-J|  Comfortable|     13.07|        273|       7.49|    2.73| 1008.75|               4.24|     5.51|      rain|partly-cloudy-night|    0.72|Partly Cloudy|        Night|\n",
      "|2013-01-01 02:00:00|MAC000071|2013-01-01 02:00:00|        0.102 |     ToU|ACORN-J|  Comfortable|     13.52|        274|       7.16|    1.73| 1009.47|               3.74|     5.74|      rain|partly-cloudy-night|    0.68|Partly Cloudy|        Night|\n",
      "|2013-01-01 02:00:00|MAC000071|2013-01-01 02:30:00|        0.073 |     ToU|ACORN-J|  Comfortable|     13.52|        274|       7.16|    1.73| 1009.47|               3.74|     5.74|      rain|partly-cloudy-night|    0.68|Partly Cloudy|        Night|\n",
      "|2013-01-01 03:00:00|MAC000071|2013-01-01 03:00:00|        0.099 |     ToU|ACORN-J|  Comfortable|     13.07|        272|       7.04|    1.61| 1010.07|               3.89|     4.98|      rain|partly-cloudy-night|    0.68|Partly Cloudy|        Night|\n",
      "|2013-01-01 03:00:00|MAC000071|2013-01-01 03:30:00|        0.079 |     ToU|ACORN-J|  Comfortable|     13.07|        272|       7.04|    1.61| 1010.07|               3.89|     4.98|      rain|partly-cloudy-night|    0.68|Partly Cloudy|        Night|\n",
      "|2013-01-01 04:00:00|MAC000071|2013-01-01 04:00:00|        0.091 |     ToU|ACORN-J|  Comfortable|     13.52|        259|       6.29|     1.8| 1010.72|               3.34|      4.2|      rain|partly-cloudy-night|    0.73|Partly Cloudy|        Night|\n",
      "|2013-01-01 04:00:00|MAC000071|2013-01-01 04:30:00|        0.085 |     ToU|ACORN-J|  Comfortable|     13.52|        259|       6.29|     1.8| 1010.72|               3.34|      4.2|      rain|partly-cloudy-night|    0.73|Partly Cloudy|        Night|\n",
      "|2013-01-01 05:00:00|MAC000071|2013-01-01 05:00:00|        0.134 |     ToU|ACORN-J|  Comfortable|     12.63|        255|        6.2|    1.84| 1011.58|               3.14|     4.37|      rain|partly-cloudy-night|    0.74|Partly Cloudy|        Night|\n",
      "|2013-01-01 05:00:00|MAC000071|2013-01-01 05:30:00|        0.139 |     ToU|ACORN-J|  Comfortable|     12.63|        255|        6.2|    1.84| 1011.58|               3.14|     4.37|      rain|partly-cloudy-night|    0.74|Partly Cloudy|        Night|\n",
      "|2013-01-01 06:00:00|MAC000071|2013-01-01 06:00:00|        0.101 |     ToU|ACORN-J|  Comfortable|     12.84|        258|       5.73|    1.83| 1012.59|               2.39|     4.71|      rain|partly-cloudy-night|    0.76|Partly Cloudy|      Morning|\n",
      "|2013-01-01 06:00:00|MAC000071|2013-01-01 06:30:00|        0.089 |     ToU|ACORN-J|  Comfortable|     12.84|        258|       5.73|    1.83| 1012.59|               2.39|     4.71|      rain|partly-cloudy-night|    0.76|Partly Cloudy|      Morning|\n",
      "|2013-01-01 07:00:00|MAC000071|2013-01-01 07:00:00|         0.08 |     ToU|ACORN-J|  Comfortable|     13.23|        261|       5.04|    1.93| 1013.39|               1.29|     5.22|      rain|partly-cloudy-night|     0.8|Partly Cloudy|      Morning|\n",
      "|2013-01-01 07:00:00|MAC000071|2013-01-01 07:30:00|        0.098 |     ToU|ACORN-J|  Comfortable|     13.23|        261|       5.04|    1.93| 1013.39|               1.29|     5.22|      rain|partly-cloudy-night|     0.8|Partly Cloudy|      Morning|\n",
      "|2013-01-01 08:00:00|MAC000071|2013-01-01 08:00:00|         0.07 |     ToU|ACORN-J|  Comfortable|     13.95|        256|       5.76|    1.98|  1014.1|               2.34|     4.86|      rain|partly-cloudy-night|    0.77|Partly Cloudy|      Morning|\n",
      "|2013-01-01 08:00:00|MAC000071|2013-01-01 08:30:00|        0.106 |     ToU|ACORN-J|  Comfortable|     13.95|        256|       5.76|    1.98|  1014.1|               2.34|     4.86|      rain|partly-cloudy-night|    0.77|Partly Cloudy|      Morning|\n",
      "|2013-01-01 09:00:00|MAC000071|2013-01-01 09:00:00|        0.062 |     ToU|ACORN-J|  Comfortable|     13.95|        259|       5.36|    2.02| 1015.28|               2.03|     4.48|      rain|  partly-cloudy-day|    0.79|Partly Cloudy|      Morning|\n",
      "|2013-01-01 09:00:00|MAC000071|2013-01-01 09:30:00|        0.107 |     ToU|ACORN-J|  Comfortable|     13.95|        259|       5.36|    2.02| 1015.28|               2.03|     4.48|      rain|  partly-cloudy-day|    0.79|Partly Cloudy|      Morning|\n",
      "+-------------------+---------+-------------------+--------------+--------+-------+-------------+----------+-----------+-----------+--------+--------+-------------------+---------+----------+-------------------+--------+-------------+-------------+\n",
      "only showing top 20 rows\n",
      "\n"
     ]
    }
   ],
   "source": [
    "# Register the function as a UDF\n",
    "time_period_udf = F.udf(get_time_period, StringType())\n",
    "\n",
    "# Add a new column with the respective time period\n",
    "join_df = join_df.withColumn(\"period_of_day\", time_period_udf(F.col('time')))\n",
    "\n",
    "# Show the DataFrame with the new column\n",
    "join_df.show()"
   ]
  },
  {
   "cell_type": "markdown",
   "metadata": {},
   "source": [
    "Regista-se a função 'is_weekend' como uma UDF e adiciona-se uma nova coluna `weekend` que indica se a data é um fim de semana (1) ou não (0)."
   ]
  },
  {
   "cell_type": "code",
   "execution_count": 12,
   "metadata": {},
   "outputs": [
    {
     "name": "stdout",
     "output_type": "stream",
     "text": [
      "+-------------------+---------+-------------------+--------------+--------+-------+-------------+----------+-----------+-----------+--------+--------+-------------------+---------+----------+-------------------+--------+-------------+-------------+-------+\n",
      "|       time weather|    LCLid|               time|energy(kWh/hh)|stdorToU|  Acorn|Acorn_grouped|visibility|windBearing|temperature|dewPoint|pressure|apparentTemperature|windSpeed|precipType|               icon|humidity|      summary|period_of_day|weekend|\n",
      "+-------------------+---------+-------------------+--------------+--------+-------+-------------+----------+-----------+-----------+--------+--------+-------------------+---------+----------+-------------------+--------+-------------+-------------+-------+\n",
      "|2013-01-01 00:00:00|MAC000071|2013-01-01 00:00:00|        0.113 |     ToU|ACORN-J|  Comfortable|     13.28|        269|       7.01|     2.6| 1008.19|               3.66|     5.46|      rain|partly-cloudy-night|    0.73|Partly Cloudy|        Night|      0|\n",
      "|2013-01-01 00:00:00|MAC000071|2013-01-01 00:30:00|        0.062 |     ToU|ACORN-J|  Comfortable|     13.28|        269|       7.01|     2.6| 1008.19|               3.66|     5.46|      rain|partly-cloudy-night|    0.73|Partly Cloudy|        Night|      0|\n",
      "|2013-01-01 01:00:00|MAC000071|2013-01-01 01:00:00|        0.107 |     ToU|ACORN-J|  Comfortable|     13.07|        273|       7.49|    2.73| 1008.75|               4.24|     5.51|      rain|partly-cloudy-night|    0.72|Partly Cloudy|        Night|      0|\n",
      "|2013-01-01 01:00:00|MAC000071|2013-01-01 01:30:00|        0.069 |     ToU|ACORN-J|  Comfortable|     13.07|        273|       7.49|    2.73| 1008.75|               4.24|     5.51|      rain|partly-cloudy-night|    0.72|Partly Cloudy|        Night|      0|\n",
      "|2013-01-01 02:00:00|MAC000071|2013-01-01 02:00:00|        0.102 |     ToU|ACORN-J|  Comfortable|     13.52|        274|       7.16|    1.73| 1009.47|               3.74|     5.74|      rain|partly-cloudy-night|    0.68|Partly Cloudy|        Night|      0|\n",
      "|2013-01-01 02:00:00|MAC000071|2013-01-01 02:30:00|        0.073 |     ToU|ACORN-J|  Comfortable|     13.52|        274|       7.16|    1.73| 1009.47|               3.74|     5.74|      rain|partly-cloudy-night|    0.68|Partly Cloudy|        Night|      0|\n",
      "|2013-01-01 03:00:00|MAC000071|2013-01-01 03:00:00|        0.099 |     ToU|ACORN-J|  Comfortable|     13.07|        272|       7.04|    1.61| 1010.07|               3.89|     4.98|      rain|partly-cloudy-night|    0.68|Partly Cloudy|        Night|      0|\n",
      "|2013-01-01 03:00:00|MAC000071|2013-01-01 03:30:00|        0.079 |     ToU|ACORN-J|  Comfortable|     13.07|        272|       7.04|    1.61| 1010.07|               3.89|     4.98|      rain|partly-cloudy-night|    0.68|Partly Cloudy|        Night|      0|\n",
      "|2013-01-01 04:00:00|MAC000071|2013-01-01 04:00:00|        0.091 |     ToU|ACORN-J|  Comfortable|     13.52|        259|       6.29|     1.8| 1010.72|               3.34|      4.2|      rain|partly-cloudy-night|    0.73|Partly Cloudy|        Night|      0|\n",
      "|2013-01-01 04:00:00|MAC000071|2013-01-01 04:30:00|        0.085 |     ToU|ACORN-J|  Comfortable|     13.52|        259|       6.29|     1.8| 1010.72|               3.34|      4.2|      rain|partly-cloudy-night|    0.73|Partly Cloudy|        Night|      0|\n",
      "|2013-01-01 05:00:00|MAC000071|2013-01-01 05:00:00|        0.134 |     ToU|ACORN-J|  Comfortable|     12.63|        255|        6.2|    1.84| 1011.58|               3.14|     4.37|      rain|partly-cloudy-night|    0.74|Partly Cloudy|        Night|      0|\n",
      "|2013-01-01 05:00:00|MAC000071|2013-01-01 05:30:00|        0.139 |     ToU|ACORN-J|  Comfortable|     12.63|        255|        6.2|    1.84| 1011.58|               3.14|     4.37|      rain|partly-cloudy-night|    0.74|Partly Cloudy|        Night|      0|\n",
      "|2013-01-01 06:00:00|MAC000071|2013-01-01 06:00:00|        0.101 |     ToU|ACORN-J|  Comfortable|     12.84|        258|       5.73|    1.83| 1012.59|               2.39|     4.71|      rain|partly-cloudy-night|    0.76|Partly Cloudy|      Morning|      0|\n",
      "|2013-01-01 06:00:00|MAC000071|2013-01-01 06:30:00|        0.089 |     ToU|ACORN-J|  Comfortable|     12.84|        258|       5.73|    1.83| 1012.59|               2.39|     4.71|      rain|partly-cloudy-night|    0.76|Partly Cloudy|      Morning|      0|\n",
      "|2013-01-01 07:00:00|MAC000071|2013-01-01 07:00:00|         0.08 |     ToU|ACORN-J|  Comfortable|     13.23|        261|       5.04|    1.93| 1013.39|               1.29|     5.22|      rain|partly-cloudy-night|     0.8|Partly Cloudy|      Morning|      0|\n",
      "|2013-01-01 07:00:00|MAC000071|2013-01-01 07:30:00|        0.098 |     ToU|ACORN-J|  Comfortable|     13.23|        261|       5.04|    1.93| 1013.39|               1.29|     5.22|      rain|partly-cloudy-night|     0.8|Partly Cloudy|      Morning|      0|\n",
      "|2013-01-01 08:00:00|MAC000071|2013-01-01 08:00:00|         0.07 |     ToU|ACORN-J|  Comfortable|     13.95|        256|       5.76|    1.98|  1014.1|               2.34|     4.86|      rain|partly-cloudy-night|    0.77|Partly Cloudy|      Morning|      0|\n",
      "|2013-01-01 08:00:00|MAC000071|2013-01-01 08:30:00|        0.106 |     ToU|ACORN-J|  Comfortable|     13.95|        256|       5.76|    1.98|  1014.1|               2.34|     4.86|      rain|partly-cloudy-night|    0.77|Partly Cloudy|      Morning|      0|\n",
      "|2013-01-01 09:00:00|MAC000071|2013-01-01 09:00:00|        0.062 |     ToU|ACORN-J|  Comfortable|     13.95|        259|       5.36|    2.02| 1015.28|               2.03|     4.48|      rain|  partly-cloudy-day|    0.79|Partly Cloudy|      Morning|      0|\n",
      "|2013-01-01 09:00:00|MAC000071|2013-01-01 09:30:00|        0.107 |     ToU|ACORN-J|  Comfortable|     13.95|        259|       5.36|    2.02| 1015.28|               2.03|     4.48|      rain|  partly-cloudy-day|    0.79|Partly Cloudy|      Morning|      0|\n",
      "+-------------------+---------+-------------------+--------------+--------+-------+-------------+----------+-----------+-----------+--------+--------+-------------------+---------+----------+-------------------+--------+-------------+-------------+-------+\n",
      "only showing top 20 rows\n",
      "\n"
     ]
    }
   ],
   "source": [
    "# Register the function as a UDF\n",
    "weekend_udf = F.udf(is_weekend, IntegerType())\n",
    "\n",
    "# Add a new column with the weekend indicator\n",
    "join_df = join_df.withColumn(\"weekend\", weekend_udf(join_df[\"time\"]))\n",
    "\n",
    "# Show the DataFrame with the new column\n",
    "join_df.show()"
   ]
  },
  {
   "cell_type": "markdown",
   "metadata": {},
   "source": [
    "Regista-se as funções 'extract_month', 'extract_day' e 'extract_hour' como UDFs e adiciona-se novas colunas ao DataFrame, representando o mês (`month`), o dia (`day`) e a hora (`hour`) extraídos da coluna de tempo existente no DataFrame."
   ]
  },
  {
   "cell_type": "code",
   "execution_count": 13,
   "metadata": {},
   "outputs": [
    {
     "name": "stdout",
     "output_type": "stream",
     "text": [
      "+-------------------+---------+-------------------+--------------+--------+-------+-------------+----------+-----------+-----------+--------+--------+-------------------+---------+----------+-------------------+--------+-------------+-------------+-------+-----+---+----+\n",
      "|       time weather|    LCLid|               time|energy(kWh/hh)|stdorToU|  Acorn|Acorn_grouped|visibility|windBearing|temperature|dewPoint|pressure|apparentTemperature|windSpeed|precipType|               icon|humidity|      summary|period_of_day|weekend|month|day|hour|\n",
      "+-------------------+---------+-------------------+--------------+--------+-------+-------------+----------+-----------+-----------+--------+--------+-------------------+---------+----------+-------------------+--------+-------------+-------------+-------+-----+---+----+\n",
      "|2013-01-01 00:00:00|MAC000071|2013-01-01 00:00:00|        0.113 |     ToU|ACORN-J|  Comfortable|     13.28|        269|       7.01|     2.6| 1008.19|               3.66|     5.46|      rain|partly-cloudy-night|    0.73|Partly Cloudy|        Night|      0|    1|  1|   0|\n",
      "|2013-01-01 00:00:00|MAC000071|2013-01-01 00:30:00|        0.062 |     ToU|ACORN-J|  Comfortable|     13.28|        269|       7.01|     2.6| 1008.19|               3.66|     5.46|      rain|partly-cloudy-night|    0.73|Partly Cloudy|        Night|      0|    1|  1|   0|\n",
      "|2013-01-01 01:00:00|MAC000071|2013-01-01 01:00:00|        0.107 |     ToU|ACORN-J|  Comfortable|     13.07|        273|       7.49|    2.73| 1008.75|               4.24|     5.51|      rain|partly-cloudy-night|    0.72|Partly Cloudy|        Night|      0|    1|  1|   1|\n",
      "|2013-01-01 01:00:00|MAC000071|2013-01-01 01:30:00|        0.069 |     ToU|ACORN-J|  Comfortable|     13.07|        273|       7.49|    2.73| 1008.75|               4.24|     5.51|      rain|partly-cloudy-night|    0.72|Partly Cloudy|        Night|      0|    1|  1|   1|\n",
      "|2013-01-01 02:00:00|MAC000071|2013-01-01 02:00:00|        0.102 |     ToU|ACORN-J|  Comfortable|     13.52|        274|       7.16|    1.73| 1009.47|               3.74|     5.74|      rain|partly-cloudy-night|    0.68|Partly Cloudy|        Night|      0|    1|  1|   2|\n",
      "|2013-01-01 02:00:00|MAC000071|2013-01-01 02:30:00|        0.073 |     ToU|ACORN-J|  Comfortable|     13.52|        274|       7.16|    1.73| 1009.47|               3.74|     5.74|      rain|partly-cloudy-night|    0.68|Partly Cloudy|        Night|      0|    1|  1|   2|\n",
      "|2013-01-01 03:00:00|MAC000071|2013-01-01 03:00:00|        0.099 |     ToU|ACORN-J|  Comfortable|     13.07|        272|       7.04|    1.61| 1010.07|               3.89|     4.98|      rain|partly-cloudy-night|    0.68|Partly Cloudy|        Night|      0|    1|  1|   3|\n",
      "|2013-01-01 03:00:00|MAC000071|2013-01-01 03:30:00|        0.079 |     ToU|ACORN-J|  Comfortable|     13.07|        272|       7.04|    1.61| 1010.07|               3.89|     4.98|      rain|partly-cloudy-night|    0.68|Partly Cloudy|        Night|      0|    1|  1|   3|\n",
      "|2013-01-01 04:00:00|MAC000071|2013-01-01 04:00:00|        0.091 |     ToU|ACORN-J|  Comfortable|     13.52|        259|       6.29|     1.8| 1010.72|               3.34|      4.2|      rain|partly-cloudy-night|    0.73|Partly Cloudy|        Night|      0|    1|  1|   4|\n",
      "|2013-01-01 04:00:00|MAC000071|2013-01-01 04:30:00|        0.085 |     ToU|ACORN-J|  Comfortable|     13.52|        259|       6.29|     1.8| 1010.72|               3.34|      4.2|      rain|partly-cloudy-night|    0.73|Partly Cloudy|        Night|      0|    1|  1|   4|\n",
      "|2013-01-01 05:00:00|MAC000071|2013-01-01 05:00:00|        0.134 |     ToU|ACORN-J|  Comfortable|     12.63|        255|        6.2|    1.84| 1011.58|               3.14|     4.37|      rain|partly-cloudy-night|    0.74|Partly Cloudy|        Night|      0|    1|  1|   5|\n",
      "|2013-01-01 05:00:00|MAC000071|2013-01-01 05:30:00|        0.139 |     ToU|ACORN-J|  Comfortable|     12.63|        255|        6.2|    1.84| 1011.58|               3.14|     4.37|      rain|partly-cloudy-night|    0.74|Partly Cloudy|        Night|      0|    1|  1|   5|\n",
      "|2013-01-01 06:00:00|MAC000071|2013-01-01 06:00:00|        0.101 |     ToU|ACORN-J|  Comfortable|     12.84|        258|       5.73|    1.83| 1012.59|               2.39|     4.71|      rain|partly-cloudy-night|    0.76|Partly Cloudy|      Morning|      0|    1|  1|   6|\n",
      "|2013-01-01 06:00:00|MAC000071|2013-01-01 06:30:00|        0.089 |     ToU|ACORN-J|  Comfortable|     12.84|        258|       5.73|    1.83| 1012.59|               2.39|     4.71|      rain|partly-cloudy-night|    0.76|Partly Cloudy|      Morning|      0|    1|  1|   6|\n",
      "|2013-01-01 07:00:00|MAC000071|2013-01-01 07:00:00|         0.08 |     ToU|ACORN-J|  Comfortable|     13.23|        261|       5.04|    1.93| 1013.39|               1.29|     5.22|      rain|partly-cloudy-night|     0.8|Partly Cloudy|      Morning|      0|    1|  1|   7|\n",
      "|2013-01-01 07:00:00|MAC000071|2013-01-01 07:30:00|        0.098 |     ToU|ACORN-J|  Comfortable|     13.23|        261|       5.04|    1.93| 1013.39|               1.29|     5.22|      rain|partly-cloudy-night|     0.8|Partly Cloudy|      Morning|      0|    1|  1|   7|\n",
      "|2013-01-01 08:00:00|MAC000071|2013-01-01 08:00:00|         0.07 |     ToU|ACORN-J|  Comfortable|     13.95|        256|       5.76|    1.98|  1014.1|               2.34|     4.86|      rain|partly-cloudy-night|    0.77|Partly Cloudy|      Morning|      0|    1|  1|   8|\n",
      "|2013-01-01 08:00:00|MAC000071|2013-01-01 08:30:00|        0.106 |     ToU|ACORN-J|  Comfortable|     13.95|        256|       5.76|    1.98|  1014.1|               2.34|     4.86|      rain|partly-cloudy-night|    0.77|Partly Cloudy|      Morning|      0|    1|  1|   8|\n",
      "|2013-01-01 09:00:00|MAC000071|2013-01-01 09:00:00|        0.062 |     ToU|ACORN-J|  Comfortable|     13.95|        259|       5.36|    2.02| 1015.28|               2.03|     4.48|      rain|  partly-cloudy-day|    0.79|Partly Cloudy|      Morning|      0|    1|  1|   9|\n",
      "|2013-01-01 09:00:00|MAC000071|2013-01-01 09:30:00|        0.107 |     ToU|ACORN-J|  Comfortable|     13.95|        259|       5.36|    2.02| 1015.28|               2.03|     4.48|      rain|  partly-cloudy-day|    0.79|Partly Cloudy|      Morning|      0|    1|  1|   9|\n",
      "+-------------------+---------+-------------------+--------------+--------+-------+-------------+----------+-----------+-----------+--------+--------+-------------------+---------+----------+-------------------+--------+-------------+-------------+-------+-----+---+----+\n",
      "only showing top 20 rows\n",
      "\n"
     ]
    }
   ],
   "source": [
    "# Register the functions as UDFs\n",
    "extract_month_udf = F.udf(extract_month, IntegerType())\n",
    "extract_day_udf = F.udf(extract_day, IntegerType())\n",
    "extract_hour_udf = F.udf(extract_hour, IntegerType())\n",
    "\n",
    "# Add new columns for each component\n",
    "join_df = join_df.withColumn(\"month\", extract_month_udf(join_df[\"time\"]))\n",
    "join_df = join_df.withColumn(\"day\", extract_day_udf(join_df[\"time\"]))\n",
    "join_df = join_df.withColumn(\"hour\", extract_hour_udf(join_df[\"time\"]))\n",
    "\n",
    "# Show the DataFrame with the new columns\n",
    "join_df.show()"
   ]
  },
  {
   "cell_type": "markdown",
   "metadata": {},
   "source": [
    "#### Seleção das colunas relevantes para a análise"
   ]
  },
  {
   "cell_type": "code",
   "execution_count": 14,
   "metadata": {},
   "outputs": [
    {
     "data": {
      "text/plain": [
       "['time weather',\n",
       " 'LCLid',\n",
       " 'time',\n",
       " 'energy(kWh/hh)',\n",
       " 'stdorToU',\n",
       " 'Acorn',\n",
       " 'Acorn_grouped',\n",
       " 'visibility',\n",
       " 'windBearing',\n",
       " 'temperature',\n",
       " 'dewPoint',\n",
       " 'pressure',\n",
       " 'apparentTemperature',\n",
       " 'windSpeed',\n",
       " 'precipType',\n",
       " 'icon',\n",
       " 'humidity',\n",
       " 'summary',\n",
       " 'period_of_day',\n",
       " 'weekend',\n",
       " 'month',\n",
       " 'day',\n",
       " 'hour']"
      ]
     },
     "execution_count": 14,
     "metadata": {},
     "output_type": "execute_result"
    }
   ],
   "source": [
    "join_df.columns"
   ]
  },
  {
   "cell_type": "markdown",
   "metadata": {},
   "source": [
    "Após o tratamento efetuado aos dados, DataFrame está completo, e contem todas as seguintes colunas:\n",
    "`time weather`, `LCLid`, `time`, `energy(kWh/hh)`, `stdorToU`, `Acorn`, `Acorn_grouped`,  `visibility`, `windBearing`, `temperature`, `dewPoint`,  `pressure`, `apparentTemperature`, `windSpeed`, `precipType`, `icon`, `humidity`, `summary`, `period_of_day`, `weekend`, `month`, `day` e `hour`.\n"
   ]
  },
  {
   "cell_type": "markdown",
   "metadata": {},
   "source": [
    "Para a próxima etapa da análise exploratória, optou-se por focar apenas num conjunto específico de variáveis que se consideram mais relevantes para os objetivos do estudo. Estas variáveis foram cuidadosamente selecionadas com base na sua importância potencial para se entender melhor os padrões e tendências nos dados."
   ]
  },
  {
   "cell_type": "code",
   "execution_count": 15,
   "metadata": {},
   "outputs": [],
   "source": [
    "# Define the columns to select\n",
    "selected_columns = [\n",
    "    'LCLid', 'time', 'energy(kWh/hh)', 'stdorToU', 'Acorn', 'Acorn_grouped',\n",
    "    'temperature', 'apparentTemperature', 'precipType', 'humidity',\n",
    "    'summary', 'period_of_day', 'weekend', 'month', 'day', 'hour'\n",
    "]\n",
    "\n",
    "# Select the specified columns\n",
    "join_df= join_df.select(*selected_columns)\n"
   ]
  },
  {
   "cell_type": "markdown",
   "metadata": {},
   "source": [
    "As variáveis escolhidas incluem informações essenciais, como: \n",
    "\n",
    "- Identificação do Consumidor (`LCLid`): Um identificador único para cada residência/consumidor;\n",
    "- Data e Hora (`time`): Registo de data e hora para cada medição de consumo, permitindo a análise temporal e a identificação de padrões de uso ao longo do dia e das estações do ano.\n",
    "- Consumo de Energia (`energy(kWh/hh)`): Quantidade de energia consumida em kilowatt-hora, medida em intervalos de meia hora. Fornece uma visão detalhada do uso de energia em períodos curtos e permite a deteção de picos de consumo.\n",
    "- Tipo de Tarifa (`stdorToU`): Informação sobre o tipo de tarifa elétrica aplicada, que pode ser uma tarifa padrão (Standard) ou uma tarifa diferenciada por horário de uso (Time-of-Use). É crucial para entender como diferentes estruturas tarifárias influenciam o consumo.\n",
    "- Segmentação Demográfica (`Acorn` e `Acorn_grouped`): Classificação socioeconômica e demográfica das residências com base no sistema ACORN, que categoriza os consumidores em diferentes grupos de acordo com características econômicas e sociais. Acorn fornece uma categorização detalhada, enquanto Acorn_grouped agrupa essas categorias em segmentos mais amplos.\n",
    "- Temperatura (`temperature`): Temperatura ambiente em graus Celsius, que pode influenciar diretamente o consumo de energia para aquecimento ou arrefecimento.\n",
    "- Temperatura aparente (`apparentTemperature`): Reflete a sensação térmica, considerando fatores como vento e humidade, que influenciam o consumo de energia.\n",
    "- Tipo de precipitação (`precipType`): Chuva ou neve, que pode afetar o comportamento de consumo de energia, especialmente para aquecimento e isolamento térmico.\n",
    "- Humidade (`humidity`): Humidade relativa do ar, que pode influenciar a necessidade de climatização e, consequentemente, o consumo de energia.\n",
    "- Resumo das condições climáticas (`summary`): Fornece uma descrição geral do tempo em cada registo, como \"Ensolarado\" ou \"Nublado\".\n",
    "- Período do dia (`period_of_day`): \"Morning\", \"Noon\", \"Evening\" ou \"Night\".\n",
    "- Fim de semana (`weekend`): Indica se o dia em que foi realizado o consumo era um fim de semana ou não.\n",
    "- Mês (`month`): Mês em que foi realizada a medição do consumo.\n",
    "- Dia (`day`): Dia em que foi realizada a medição do consumo.\n",
    "- Hora (`hour`): Hora em que foi realizada a medição do consumo. \n",
    "\n",
    "A exclusão das outras variáveis foi uma decisão estratégica para simplificar a análise e focar apenas nos aspetos mais relevantes do conjunto de dados. Isso permitirá uma análise mais eficiente e uma compreensão mais aprofundada dos padrões de consumo de energia em relação às variáveis selecionadas."
   ]
  },
  {
   "cell_type": "code",
   "execution_count": 16,
   "metadata": {},
   "outputs": [
    {
     "name": "stdout",
     "output_type": "stream",
     "text": [
      "+---------+-------------------+--------------+--------+-------+-------------+-----------+-------------------+----------+--------+-------------+-------------+-------+-----+---+----+\n",
      "|    LCLid|               time|energy(kWh/hh)|stdorToU|  Acorn|Acorn_grouped|temperature|apparentTemperature|precipType|humidity|      summary|period_of_day|weekend|month|day|hour|\n",
      "+---------+-------------------+--------------+--------+-------+-------------+-----------+-------------------+----------+--------+-------------+-------------+-------+-----+---+----+\n",
      "|MAC000071|2013-01-01 00:00:00|        0.113 |     ToU|ACORN-J|  Comfortable|       7.01|               3.66|      rain|    0.73|Partly Cloudy|        Night|      0|    1|  1|   0|\n",
      "|MAC000071|2013-01-01 00:30:00|        0.062 |     ToU|ACORN-J|  Comfortable|       7.01|               3.66|      rain|    0.73|Partly Cloudy|        Night|      0|    1|  1|   0|\n",
      "|MAC000071|2013-01-01 01:00:00|        0.107 |     ToU|ACORN-J|  Comfortable|       7.49|               4.24|      rain|    0.72|Partly Cloudy|        Night|      0|    1|  1|   1|\n",
      "|MAC000071|2013-01-01 01:30:00|        0.069 |     ToU|ACORN-J|  Comfortable|       7.49|               4.24|      rain|    0.72|Partly Cloudy|        Night|      0|    1|  1|   1|\n",
      "|MAC000071|2013-01-01 02:00:00|        0.102 |     ToU|ACORN-J|  Comfortable|       7.16|               3.74|      rain|    0.68|Partly Cloudy|        Night|      0|    1|  1|   2|\n",
      "|MAC000071|2013-01-01 02:30:00|        0.073 |     ToU|ACORN-J|  Comfortable|       7.16|               3.74|      rain|    0.68|Partly Cloudy|        Night|      0|    1|  1|   2|\n",
      "|MAC000071|2013-01-01 03:00:00|        0.099 |     ToU|ACORN-J|  Comfortable|       7.04|               3.89|      rain|    0.68|Partly Cloudy|        Night|      0|    1|  1|   3|\n",
      "|MAC000071|2013-01-01 03:30:00|        0.079 |     ToU|ACORN-J|  Comfortable|       7.04|               3.89|      rain|    0.68|Partly Cloudy|        Night|      0|    1|  1|   3|\n",
      "|MAC000071|2013-01-01 04:00:00|        0.091 |     ToU|ACORN-J|  Comfortable|       6.29|               3.34|      rain|    0.73|Partly Cloudy|        Night|      0|    1|  1|   4|\n",
      "|MAC000071|2013-01-01 04:30:00|        0.085 |     ToU|ACORN-J|  Comfortable|       6.29|               3.34|      rain|    0.73|Partly Cloudy|        Night|      0|    1|  1|   4|\n",
      "|MAC000071|2013-01-01 05:00:00|        0.134 |     ToU|ACORN-J|  Comfortable|        6.2|               3.14|      rain|    0.74|Partly Cloudy|        Night|      0|    1|  1|   5|\n",
      "|MAC000071|2013-01-01 05:30:00|        0.139 |     ToU|ACORN-J|  Comfortable|        6.2|               3.14|      rain|    0.74|Partly Cloudy|        Night|      0|    1|  1|   5|\n",
      "|MAC000071|2013-01-01 06:00:00|        0.101 |     ToU|ACORN-J|  Comfortable|       5.73|               2.39|      rain|    0.76|Partly Cloudy|      Morning|      0|    1|  1|   6|\n",
      "|MAC000071|2013-01-01 06:30:00|        0.089 |     ToU|ACORN-J|  Comfortable|       5.73|               2.39|      rain|    0.76|Partly Cloudy|      Morning|      0|    1|  1|   6|\n",
      "|MAC000071|2013-01-01 07:00:00|         0.08 |     ToU|ACORN-J|  Comfortable|       5.04|               1.29|      rain|     0.8|Partly Cloudy|      Morning|      0|    1|  1|   7|\n",
      "|MAC000071|2013-01-01 07:30:00|        0.098 |     ToU|ACORN-J|  Comfortable|       5.04|               1.29|      rain|     0.8|Partly Cloudy|      Morning|      0|    1|  1|   7|\n",
      "|MAC000071|2013-01-01 08:00:00|         0.07 |     ToU|ACORN-J|  Comfortable|       5.76|               2.34|      rain|    0.77|Partly Cloudy|      Morning|      0|    1|  1|   8|\n",
      "|MAC000071|2013-01-01 08:30:00|        0.106 |     ToU|ACORN-J|  Comfortable|       5.76|               2.34|      rain|    0.77|Partly Cloudy|      Morning|      0|    1|  1|   8|\n",
      "|MAC000071|2013-01-01 09:00:00|        0.062 |     ToU|ACORN-J|  Comfortable|       5.36|               2.03|      rain|    0.79|Partly Cloudy|      Morning|      0|    1|  1|   9|\n",
      "|MAC000071|2013-01-01 09:30:00|        0.107 |     ToU|ACORN-J|  Comfortable|       5.36|               2.03|      rain|    0.79|Partly Cloudy|      Morning|      0|    1|  1|   9|\n",
      "+---------+-------------------+--------------+--------+-------+-------------+-----------+-------------------+----------+--------+-------------+-------------+-------+-----+---+----+\n",
      "only showing top 20 rows\n",
      "\n"
     ]
    }
   ],
   "source": [
    "join_df.show()"
   ]
  },
  {
   "cell_type": "code",
   "execution_count": 17,
   "metadata": {},
   "outputs": [
    {
     "data": {
      "text/plain": [
       "93024229"
      ]
     },
     "execution_count": 17,
     "metadata": {},
     "output_type": "execute_result"
    }
   ],
   "source": [
    "join_df.count()"
   ]
  },
  {
   "cell_type": "markdown",
   "metadata": {},
   "source": [
    "O DataFrame passou a conter um total de 93024229 linhas"
   ]
  },
  {
   "cell_type": "code",
   "execution_count": 18,
   "metadata": {},
   "outputs": [],
   "source": [
    "del result_df\n",
    "del consumos_meiahora\n",
    "del informacao_casas"
   ]
  },
  {
   "cell_type": "markdown",
   "metadata": {},
   "source": [
    "Como os DataFrames (result_df, consumos_meiahora, join_df e informacao_casas) já não são necessários, foram eliminados da memória para libertar recursos e espaço que estavam a ser ocupados"
   ]
  },
  {
   "cell_type": "markdown",
   "metadata": {},
   "source": [
    "Por fim, guarda-se o DataFrame final em formato Parquet, de forma a facilitar o armazenamento e acesso futuro"
   ]
  },
  {
   "cell_type": "code",
   "execution_count": 19,
   "metadata": {},
   "outputs": [],
   "source": [
    "parquet(join_df,'dados_final_parquet')"
   ]
  },
  {
   "cell_type": "code",
   "execution_count": 23,
   "metadata": {},
   "outputs": [],
   "source": [
    "del join_df\n",
    "\n",
    "join_df = spark.read.parquet('dados_final_parquet')"
   ]
  },
  {
   "cell_type": "markdown",
   "metadata": {},
   "source": [
    "Recarrega-se o DataFrame a partir do arquivo Parquet e exibe as primeiras 5 linhas para verificar a integridade dos dados salvos."
   ]
  },
  {
   "cell_type": "code",
   "execution_count": 24,
   "metadata": {},
   "outputs": [
    {
     "name": "stdout",
     "output_type": "stream",
     "text": [
      "+---------+-------------------+--------------+--------+-------+-------------+-----------+-------------------+----------+--------+-------------+-------------+-------+-----+---+----+\n",
      "|LCLid    |time               |energy(kWh/hh)|stdorToU|Acorn  |Acorn_grouped|temperature|apparentTemperature|precipType|humidity|summary      |period_of_day|weekend|month|day|hour|\n",
      "+---------+-------------------+--------------+--------+-------+-------------+-----------+-------------------+----------+--------+-------------+-------------+-------+-----+---+----+\n",
      "|MAC000071|2013-01-01 00:00:00| 0.113        |ToU     |ACORN-J|Comfortable  |7.01       |3.66               |rain      |0.73    |Partly Cloudy|Night        |0      |1    |1  |0   |\n",
      "|MAC000071|2013-01-01 00:30:00| 0.062        |ToU     |ACORN-J|Comfortable  |7.01       |3.66               |rain      |0.73    |Partly Cloudy|Night        |0      |1    |1  |0   |\n",
      "|MAC000071|2013-01-01 01:00:00| 0.107        |ToU     |ACORN-J|Comfortable  |7.49       |4.24               |rain      |0.72    |Partly Cloudy|Night        |0      |1    |1  |1   |\n",
      "|MAC000071|2013-01-01 01:30:00| 0.069        |ToU     |ACORN-J|Comfortable  |7.49       |4.24               |rain      |0.72    |Partly Cloudy|Night        |0      |1    |1  |1   |\n",
      "|MAC000071|2013-01-01 02:00:00| 0.102        |ToU     |ACORN-J|Comfortable  |7.16       |3.74               |rain      |0.68    |Partly Cloudy|Night        |0      |1    |1  |2   |\n",
      "+---------+-------------------+--------------+--------+-------+-------------+-----------+-------------------+----------+--------+-------------+-------------+-------+-----+---+----+\n",
      "only showing top 5 rows\n",
      "\n"
     ]
    }
   ],
   "source": [
    "join_df.show(5,truncate=False)"
   ]
  },
  {
   "cell_type": "markdown",
   "metadata": {},
   "source": [
    "Este notebook preparou os dados de consumo de energia, integrando-os com informações demográficas e meteorológicas para facilitar a análise subsequente. Nos próximos passos, realizaremos uma análise exploratória para identificar tendências e padrões específicos nos dados de consumo e aplicaremos algoritmos de clustering para segmentar os consumidores com base nos seus comportamentos típicos de uso de energia. Este trabalho permitirá entender melhor as necessidades energéticas dos diferentes grupos de consumidores e como fatores externos, como o clima, impactam o consumo de energia."
   ]
  }
 ],
 "metadata": {
  "kernelspec": {
   "display_name": "vscode_pyspark",
   "language": "python",
   "name": "vscode_pyspark"
  },
  "language_info": {
   "codemirror_mode": {
    "name": "ipython",
    "version": 3
   },
   "file_extension": ".py",
   "mimetype": "text/x-python",
   "name": "python",
   "nbconvert_exporter": "python",
   "pygments_lexer": "ipython3",
   "version": "3.11.8"
  }
 },
 "nbformat": 4,
 "nbformat_minor": 4
}
