{
 "cells": [
  {
   "cell_type": "markdown",
   "metadata": {},
   "source": [
    "## Análise do Consumo Energético e Clustering de Consumidores\n",
    "\n",
    "### Introdução\n",
    "\n",
    "Neste notebook, serão aplicadas técnicas de modelagem de dados para analisar e segmentar padrões de consumo de energia. O objetivo principal é identificar diferentes perfis de consumo e entender como os clientes utilizam a energia ao longo do tempo. Para isso, foram utilizadas técnicas de agrupamento (clustering) para segmentar os clientes em grupos com comportamentos semelhantes de consumo de energia."
   ]
  },
  {
   "cell_type": "markdown",
   "metadata": {},
   "source": [
    "##### Inicialização da Sessão Spark"
   ]
  },
  {
   "cell_type": "code",
   "execution_count": 14,
   "metadata": {},
   "outputs": [],
   "source": [
    "#import findspark\n",
    "#findspark.init()\n",
    "#findspark.find()\n",
    "\n",
    "import pyspark\n",
    "from pyspark.sql import SparkSession\n",
    "from pyspark.sql import SparkSession\n",
    "from pyspark.sql.types import *\n",
    "import pyspark.sql.functions as F\n",
    "from pyspark.ml import PipelineModel\n",
    "from pyspark.sql import SparkSession\n",
    "from pyspark.ml.clustering import KMeansModel\n",
    "\n",
    "# Initialize Spark session\n",
    "spark = SparkSession\\\n",
    "        .builder\\\n",
    "        .appName(\"TrabalhoFinal\")\\\n",
    "        .config(\"spark.sql.shuffle.partitions\",6)\\\n",
    "        .config(\"spark.sql.repl.eagereval.enabled\",True)\\\n",
    "        .getOrCreate()\n",
    "\n",
    "\n"
   ]
  },
  {
   "cell_type": "markdown",
   "metadata": {},
   "source": [
    "#### Funções Auxiliares\n",
    "Esta função `compute_energy_stats` calcula várias estatísticas de consumo de energia. \n",
    "\n",
    "\n",
    "1. **Estatísticas de consumo geral**: Calcula a média, máximo e mínimo do consumo de energia para cada ID de cliente (LCLid).\n",
    "\n",
    "2. **Consumo médio para cada período do dia**: Calcula a média do consumo de energia para cada período do dia (manhã, tarde, noite, etc.) para cada cliente.\n",
    "\n",
    "3. **Estatísticas de consumo mínimo e máximo por dia**: Calcula a soma do consumo de energia para cada dde e, em seguida, calcula o consumo mínimo e máximo para cada cliente.\n",
    "\n",
    "4. **Combinação de todas as estatnicas em um DataFrame final**: Une todas as estatísticas calnadas em um único DataFrame final usando o ID do cliente como chave des futuras."
   ]
  },
  {
   "cell_type": "code",
   "execution_count": 15,
   "metadata": {},
   "outputs": [],
   "source": [
    "def compute_energy_stats(df):\n",
    "    \"\"\"\n",
    "    Function to compute various energy statistics.\n",
    "\n",
    "    Parameters:\n",
    "    df (DataFrame): The input Spark DataFrame.\n",
    "\n",
    "    Returns:\n",
    "    DataFrame: The resulting DataFrame with aggregated statistics.\n",
    "    \"\"\"\n",
    "    # Calculate overall consumption statistics\n",
    "    overall_stats = df.groupBy(\"LCLid\").agg(\n",
    "        F.mean(\"energy(kWh/hh)\").cast(\"float\").alias(\"Consume_mean\"),\n",
    "        F.max(\"energy(kWh/hh)\").cast(\"float\").alias(\"Consume_max\"),\n",
    "        F.min(\"energy(kWh/hh)\").cast(\"float\").alias(\"Consume_min\")\n",
    "    )\n",
    "\n",
    "    # Calculate mean consumption for each period of the day\n",
    "    period_means = df.groupBy(\"LCLid\").pivot(\"period_of_day\").agg(\n",
    "        F.mean(\"energy(kWh/hh)\").cast(\"float\").alias(\"Consume_mean\")\n",
    "    ).select(\n",
    "        F.col(\"LCLid\"),\n",
    "        F.col(\"Morning\").alias(\"Consume_mean_Morning\"),\n",
    "        F.col(\"Noon\").alias(\"Consume_mean_Noon\"),\n",
    "        F.col(\"Evening\").alias(\"Consume_mean_Evening\"),\n",
    "        F.col(\"Night\").alias(\"Consume_mean_Night\")\n",
    "    )\n",
    "\n",
    "    # Calculate minimum and maximum consumption day\n",
    "    day_stats = df.groupBy(\"LCLid\", \"day\").agg(\n",
    "        F.sum(\"energy(kWh/hh)\").cast(\"float\").alias(\"daily_energy\")\n",
    "    ).groupBy(\"LCLid\").agg(\n",
    "        F.min(\"daily_energy\").cast(\"float\").alias(\"Min_Day\"),\n",
    "        F.max(\"daily_energy\").cast(\"float\").alias(\"Max_Day\")\n",
    "    )\n",
    "\n",
    "    # Combine all statistics into one DataFrame\n",
    "    final_df = overall_stats.join(period_means, on=\"LCLid\", how=\"left\") \\\n",
    "                            .join(day_stats, on=\"LCLid\", how=\"left\")\n",
    "\n",
    "    return final_df"
   ]
  },
  {
   "cell_type": "markdown",
   "metadata": {},
   "source": [
    "#### Leitura e Preparação dos Dados\n",
    "Carregaram-se os dados de consumo energético e meteorológicos e realizaram-se as devidas conversões de tipo."
   ]
  },
  {
   "cell_type": "code",
   "execution_count": 16,
   "metadata": {},
   "outputs": [],
   "source": [
    "dados_final = spark.read.parquet('dados_final_parquet')\n",
    "dados_final = dados_final.withColumn('temperature', F.col('temperature').cast('float'))\n",
    "dados_final = dados_final.withColumn('apparentTemperature', F.col('apparentTemperature').cast('float'))\n",
    "dados_final = dados_final.withColumn('humidity', F.col('humidity').cast('float'))\n"
   ]
  },
  {
   "cell_type": "code",
   "execution_count": 17,
   "metadata": {},
   "outputs": [
    {
     "data": {
      "text/plain": [
       "9303749"
      ]
     },
     "execution_count": 17,
     "metadata": {},
     "output_type": "execute_result"
    }
   ],
   "source": [
    "final_data = dados_final.sample(False, 0.1, seed=4123)\n",
    "\n",
    "final_data.count()"
   ]
  },
  {
   "cell_type": "markdown",
   "metadata": {},
   "source": [
    "A amostra dos dados contém 9303749 registos, representando cerca de 10% do total"
   ]
  },
  {
   "cell_type": "markdown",
   "metadata": {},
   "source": [
    "Estatísticas de consumo energético utilizando a função `compute_energy_stats`."
   ]
  },
  {
   "cell_type": "code",
   "execution_count": 18,
   "metadata": {},
   "outputs": [
    {
     "name": "stdout",
     "output_type": "stream",
     "text": [
      "-RECORD 0---------------------------\n",
      " LCLid                | MAC000002   \n",
      " Consume_mean         | 0.24523506  \n",
      " Consume_max          | 2.994       \n",
      " Consume_min          | 0.065       \n",
      " Consume_mean_Morning | 0.19983937  \n",
      " Consume_mean_Noon    | 0.22717202  \n",
      " Consume_mean_Evening | 0.38890687  \n",
      " Consume_mean_Night   | 0.15912384  \n",
      " Min_Day              | 5.896       \n",
      " Max_Day              | 19.128      \n",
      "-RECORD 1---------------------------\n",
      " LCLid                | MAC000003   \n",
      " Consume_mean         | 0.39423126  \n",
      " Consume_max          | 3.443       \n",
      " Consume_min          | 0.007       \n",
      " Consume_mean_Morning | 0.34106544  \n",
      " Consume_mean_Noon    | 0.16044568  \n",
      " Consume_mean_Evening | 0.15154716  \n",
      " Consume_mean_Night   | 0.9792494   \n",
      " Min_Day              | 11.1449995  \n",
      " Max_Day              | 35.382      \n",
      "-RECORD 2---------------------------\n",
      " LCLid                | MAC000004   \n",
      " Consume_mean         | 0.03528794  \n",
      " Consume_max          | 0.672       \n",
      " Consume_min          | 0.0         \n",
      " Consume_mean_Morning | 0.035833728 \n",
      " Consume_mean_Noon    | 0.040536106 \n",
      " Consume_mean_Evening | 0.03736427  \n",
      " Consume_mean_Night   | 0.026978774 \n",
      " Min_Day              | 0.993       \n",
      " Max_Day              | 2.85        \n",
      "-RECORD 3---------------------------\n",
      " LCLid                | MAC000005   \n",
      " Consume_mean         | 0.09592768  \n",
      " Consume_max          | 1.648       \n",
      " Consume_min          | 0.011       \n",
      " Consume_mean_Morning | 0.081770144 \n",
      " Consume_mean_Noon    | 0.12167191  \n",
      " Consume_mean_Evening | 0.14418651  \n",
      " Consume_mean_Night   | 0.035213962 \n",
      " Min_Day              | 2.755       \n",
      " Max_Day              | 8.396       \n",
      "-RECORD 4---------------------------\n",
      " LCLid                | MAC000006   \n",
      " Consume_mean         | 0.05877416  \n",
      " Consume_max          | 0.626       \n",
      " Consume_min          | 0.0         \n",
      " Consume_mean_Morning | 0.07161697  \n",
      " Consume_mean_Noon    | 0.05612414  \n",
      " Consume_mean_Evening | 0.07774468  \n",
      " Consume_mean_Night   | 0.031364836 \n",
      " Min_Day              | 1.78        \n",
      " Max_Day              | 4.416       \n",
      "only showing top 5 rows\n",
      "\n"
     ]
    }
   ],
   "source": [
    "final_data_all = compute_energy_stats(final_data)\n",
    "final_data_all.show(5, truncate=False,vertical=True)"
   ]
  },
  {
   "cell_type": "markdown",
   "metadata": {},
   "source": [
    "Estatísticas de consumo de energia:\n",
    "\n",
    "**Consume_mean:** Esta coluna representa a média do consumo de energia para cada cliente.\n",
    "\n",
    "**Consume_max:** Indica o máximo de consumo de energia observado para cada cliente.\n",
    "\n",
    "**Consume_min:** Representa o mínimo de consumo de energia registado para cada cliente.\n",
    "\n",
    "**Consume_mean_Morning, Consume_mean_Noon, Consume_mean_Evening, Consume_mean_Night:** Estas colunas mostram a média do consumo de energia para cada período do dia (manhã, tarde, noite e madrugada).\n",
    "\n",
    "**Min_Day:** Indica o dia com o menor consumo total de energia para cada cliente.\n",
    "\n",
    "**Max_Day:** Representa o dia com o maior consumo total de energia para cada cliente.\n",
    "\n",
    "Estas estatísticas agregadas fornecem uma visão geral do comportamento de consumo de energia dos clientes."
   ]
  },
  {
   "cell_type": "markdown",
   "metadata": {},
   "source": [
    "### Aplicação do Modelo de Clustering\n",
    "Aplicação do modelo de clustering previamente treinado aos dados processados.\n",
    "\n",
    ". O modelo de agrupamento foi carregado e aplicado aos dados agregados `final_data_all`, gerando assim previsões para cada ponto de dados\n",
    ". Estas previsões serão utilizadas para entender melhor os padrões de consumo de energia e identificar grupos de consumidores com comportamentos semelhantes."
   ]
  },
  {
   "cell_type": "markdown",
   "metadata": {},
   "source": []
  },
  {
   "cell_type": "markdown",
   "metadata": {},
   "source": [
    "\n",
    ". O modelo de agrupamento foi carregado e aplicado aos dados agregados `final_data_all`, gerando assim previsões para cada ponto de dados\n",
    ". Estas previsões serão utilizadas para entender melhor os padrões de consumo de energia e identificar grupos de consumidores com comportamentos semelhantes."
   ]
  },
  {
   "cell_type": "code",
   "execution_count": 19,
   "metadata": {},
   "outputs": [],
   "source": [
    "model_path = \"clustering_model\"\n",
    "model = PipelineModel.load(model_path)\n",
    "\n",
    "# Step 3: Apply the model to the validation data\n",
    "predictions = model.transform(final_data_all)\n",
    "\n"
   ]
  },
  {
   "cell_type": "markdown",
   "metadata": {},
   "source": [
    "Criação de um DataFrame para visualizar os centros dos clusters."
   ]
  },
  {
   "cell_type": "code",
   "execution_count": 20,
   "metadata": {},
   "outputs": [
    {
     "name": "stdout",
     "output_type": "stream",
     "text": [
      "+------------+-----------+-----------+--------------------+-----------------+--------------------+------------------+----------+-----------+\n",
      "|Consume_mean|Consume_max|Consume_min|Consume_mean_Morning|Consume_mean_Noon|Consume_mean_Evening|Consume_mean_Night|   Min_Day|    Max_Day|\n",
      "+------------+-----------+-----------+--------------------+-----------------+--------------------+------------------+----------+-----------+\n",
      "|  0.05330972| 0.12908413|0.021310782|         0.057795502|       0.06503283|          0.06961891|      0.0130209215|0.04633711|0.061931286|\n",
      "|   0.2937032|  0.3902783| 0.11512419|          0.32474813|        0.3505345|          0.35116425|        0.08608117|0.24990796| 0.32726064|\n",
      "|  0.12606068| 0.24579746|0.050768673|          0.13470587|       0.15380688|          0.16171429|        0.03264286|0.11156876| 0.14771971|\n",
      "+------------+-----------+-----------+--------------------+-----------------+--------------------+------------------+----------+-----------+\n",
      "\n"
     ]
    }
   ],
   "source": [
    "# Extracting the KMeans model from the pipeline\n",
    "kmeans_model = model.stages[-1]  # Assuming KMeans is the last stage in your pipeline\n",
    "\n",
    "# Extract cluster centers\n",
    "centers = kmeans_model.clusterCenters()\n",
    "# List to hold the data\n",
    "data = []\n",
    "\n",
    "# Iterate over the cluster centers and create a Row for each center\n",
    "for i, center in enumerate(centers):\n",
    "    row_data = {\n",
    "        \"Consume_mean\": float(center[0]),\n",
    "        \"Consume_max\": float(center[1]),\n",
    "        \"Consume_min\": float(center[2]),\n",
    "        \"Consume_mean_Morning\": float(center[3]),\n",
    "        \"Consume_mean_Noon\": float(center[4]),\n",
    "        \"Consume_mean_Evening\": float(center[5]),\n",
    "        \"Consume_mean_Night\": float(center[6]),\n",
    "        \"Min_Day\": float(center[7]),\n",
    "        \"Max_Day\": float(center[8])\n",
    "    }\n",
    "    # Append the Row to the data list\n",
    "    data.append(Row(**row_data))\n",
    "\n",
    "# Define the schema for the DataFrame\n",
    "schema = StructType([\n",
    "    StructField(\"Consume_mean\", FloatType(), nullable=True),\n",
    "    StructField(\"Consume_max\", FloatType(), nullable=True),\n",
    "    StructField(\"Consume_min\", FloatType(), nullable=True),\n",
    "    StructField(\"Consume_mean_Morning\", FloatType(), nullable=True),\n",
    "    StructField(\"Consume_mean_Noon\", FloatType(), nullable=True),\n",
    "    StructField(\"Consume_mean_Evening\", FloatType(), nullable=True),\n",
    "    StructField(\"Consume_mean_Night\", FloatType(), nullable=True),\n",
    "    StructField(\"Min_Day\", FloatType(), nullable=True),\n",
    "    StructField(\"Max_Day\", FloatType(), nullable=True)\n",
    "])\n",
    "\n",
    "# Create DataFrame using the specified schema\n",
    "cluster_centers_df = spark.createDataFrame(data, schema=schema)\n",
    "\n",
    "# Show the DataFrame\n",
    "cluster_centers_df.show()"
   ]
  },
  {
   "cell_type": "code",
   "execution_count": 21,
   "metadata": {},
   "outputs": [
    {
     "name": "stdout",
     "output_type": "stream",
     "text": [
      "-RECORD 0----------------------------------------------------------------------------------------------------------------------------------------------------------------------------------------------------\n",
      " LCLid                | MAC000002                                                                                                                                                                            \n",
      " Consume_mean         | 0.24523506                                                                                                                                                                           \n",
      " Consume_max          | 2.994                                                                                                                                                                                \n",
      " Consume_min          | 0.065                                                                                                                                                                                \n",
      " Consume_mean_Morning | 0.19983937                                                                                                                                                                           \n",
      " Consume_mean_Noon    | 0.22717202                                                                                                                                                                           \n",
      " Consume_mean_Evening | 0.38890687                                                                                                                                                                           \n",
      " Consume_mean_Night   | 0.15912384                                                                                                                                                                           \n",
      " Min_Day              | 5.896                                                                                                                                                                                \n",
      " Max_Day              | 19.128                                                                                                                                                                               \n",
      " features             | [0.24523505568504333,2.99399995803833,0.06499999761581421,0.19983936846256256,0.22717201709747314,0.388906866312027,0.15912383794784546,5.895999908447266,19.128000259399414]        \n",
      " scaled_features      | [0.10518616571158658,0.3056973716894652,0.08248730791684335,0.09720621889341385,0.10900655758710082,0.15976805186722784,0.0281819983319168,0.07657639714428092,0.11858207561002142]  \n",
      " prediction           | 2                                                                                                                                                                                    \n",
      "-RECORD 1----------------------------------------------------------------------------------------------------------------------------------------------------------------------------------------------------\n",
      " LCLid                | MAC000003                                                                                                                                                                            \n",
      " Consume_mean         | 0.39423126                                                                                                                                                                           \n",
      " Consume_max          | 3.443                                                                                                                                                                                \n",
      " Consume_min          | 0.007                                                                                                                                                                                \n",
      " Consume_mean_Morning | 0.34106544                                                                                                                                                                           \n",
      " Consume_mean_Noon    | 0.16044568                                                                                                                                                                           \n",
      " Consume_mean_Evening | 0.15154716                                                                                                                                                                           \n",
      " Consume_mean_Night   | 0.9792494                                                                                                                                                                            \n",
      " Min_Day              | 11.1449995                                                                                                                                                                           \n",
      " Max_Day              | 35.382                                                                                                                                                                               \n",
      " features             | [0.39423125982284546,3.443000078201294,0.007000000216066837,0.3410654366016388,0.1604456752538681,0.1515471637248993,0.9792494177818298,11.144999504089355,35.38199996948242]        \n",
      " scaled_features      | [0.16909358455534398,0.351541780021389,0.008883249144922946,0.16590165262400536,0.07698849075965963,0.06225756655812022,0.17343225134818144,0.14474964746441424,0.21934707960667274] \n",
      " prediction           | 2                                                                                                                                                                                    \n",
      "-RECORD 2----------------------------------------------------------------------------------------------------------------------------------------------------------------------------------------------------\n",
      " LCLid                | MAC000004                                                                                                                                                                            \n",
      " Consume_mean         | 0.03528794                                                                                                                                                                           \n",
      " Consume_max          | 0.672                                                                                                                                                                                \n",
      " Consume_min          | 0.0                                                                                                                                                                                  \n",
      " Consume_mean_Morning | 0.035833728                                                                                                                                                                          \n",
      " Consume_mean_Noon    | 0.040536106                                                                                                                                                                          \n",
      " Consume_mean_Evening | 0.03736427                                                                                                                                                                           \n",
      " Consume_mean_Night   | 0.026978774                                                                                                                                                                          \n",
      " Min_Day              | 0.993                                                                                                                                                                                \n",
      " Max_Day              | 2.85                                                                                                                                                                                 \n",
      " features             | [0.03528793901205063,0.671999990940094,0.0,0.035833727568387985,0.04053610563278198,0.03736427053809166,0.02697877399623394,0.9929999709129333,2.8499999046325684]                   \n",
      " scaled_features      | [0.015135694977103951,0.0686134381712978,0.0,0.017430305112439478,0.019450905043118537,0.015349733394836569,0.004778138672146827,0.01289694052198751,0.01766828207844788]            \n",
      " prediction           | 0                                                                                                                                                                                    \n",
      "-RECORD 3----------------------------------------------------------------------------------------------------------------------------------------------------------------------------------------------------\n",
      " LCLid                | MAC000005                                                                                                                                                                            \n",
      " Consume_mean         | 0.09592768                                                                                                                                                                           \n",
      " Consume_max          | 1.648                                                                                                                                                                                \n",
      " Consume_min          | 0.011                                                                                                                                                                                \n",
      " Consume_mean_Morning | 0.081770144                                                                                                                                                                          \n",
      " Consume_mean_Noon    | 0.12167191                                                                                                                                                                           \n",
      " Consume_mean_Evening | 0.14418651                                                                                                                                                                           \n",
      " Consume_mean_Night   | 0.035213962                                                                                                                                                                          \n",
      " Min_Day              | 2.755                                                                                                                                                                                \n",
      " Max_Day              | 8.396                                                                                                                                                                                \n",
      " features             | [0.09592767804861069,1.6480000019073486,0.010999999940395355,0.0817701444029808,0.12167190760374069,0.14418651163578033,0.03521396219730377,2.755000114440918,8.395999908447266]     \n",
      " scaled_features      | [0.0411452783997891,0.16826629131197215,0.01395939100692972,0.03977477819777677,0.05838322858773919,0.05923371394296106,0.00623665087961155,0.03578154446605586,0.05205014023752879] \n",
      " prediction           | 0                                                                                                                                                                                    \n",
      "-RECORD 4----------------------------------------------------------------------------------------------------------------------------------------------------------------------------------------------------\n",
      " LCLid                | MAC000006                                                                                                                                                                            \n",
      " Consume_mean         | 0.05877416                                                                                                                                                                           \n",
      " Consume_max          | 0.626                                                                                                                                                                                \n",
      " Consume_min          | 0.0                                                                                                                                                                                  \n",
      " Consume_mean_Morning | 0.07161697                                                                                                                                                                           \n",
      " Consume_mean_Noon    | 0.05612414                                                                                                                                                                           \n",
      " Consume_mean_Evening | 0.07774468                                                                                                                                                                           \n",
      " Consume_mean_Night   | 0.031364836                                                                                                                                                                          \n",
      " Min_Day              | 1.78                                                                                                                                                                                 \n",
      " Max_Day              | 4.416                                                                                                                                                                                \n",
      " features             | [0.058774158358573914,0.6259999871253967,0.0,0.07161697000265121,0.056124139577150345,0.07774467766284943,0.03136483579874039,1.7799999713897705,4.415999889373779]                  \n",
      " scaled_features      | [0.025209398971914744,0.06391668451032853,0.0,0.0348360531566879,0.026930690368515347,0.03193853533887816,0.005554942374194503,0.02311838311440009,0.02737653835602832]              \n",
      " prediction           | 0                                                                                                                                                                                    \n",
      "only showing top 5 rows\n",
      "\n"
     ]
    }
   ],
   "source": [
    "predictions.show(5, truncate=False,vertical=True)"
   ]
  },
  {
   "cell_type": "markdown",
   "metadata": {},
   "source": [
    "#### Centros dos Clusters\n",
    "Os centros dos clusters indicam três grupos principais de consumidores com diferentes padrões de consumo médio, máximo, e mínimo, bem como variações nos períodos do dia e nos dias de menor e maior consumo.\n",
    "\n",
    "**Cluster 1:** Consumidores com baixo consumo médio e variação mínima ao longo do dia. \n",
    "\n",
    "**Cluster 2:** Consumidores com consumo médio mais elevado e maior variação ao longo do dia, especialmente à noite.\n",
    "\n",
    "**Cluster 3:** Consumidores com consumo médio moderado e variação considerável entre os diferentes períodos do dia."
   ]
  },
  {
   "cell_type": "markdown",
   "metadata": {},
   "source": [
    "### Conclusão:\n",
    "\n",
    "Após a análise dos clusters gerados pelo modelo de agrupamento, pudemos identificar distintos perfis de consumo de energia entre os clientes. \n",
    "\n",
    "No Cluster 1, observam-se consumidores com baixo consumo médio e picos moderados durante o dia. Já no Cluster 2, encontramos consumidores com alto consumo médio e picos de consumo mais acentuados em determinados períodos do dia. Por fim, o Cluster 3 representou consumidores com consumo médio e padrões mais uniformes ao longo do dia.\n",
    "\n",
    "Essa segmentação permite às empresas de energia compreender melhor o comportamento dos seus clientes e adaptar as suas estratégias de marketing e fornecimento de energia de acordo com as necessidades de cada grupo. Além disso, possibilita a identificação de oportunidades de eficiência energética e a oferta de serviços personalizados, visando tanto a satisfação do cliente quanto a maximização dos lucros."
   ]
  },
  {
   "cell_type": "markdown",
   "metadata": {},
   "source": [
    "### Resposta às questões principais:"
   ]
  },
  {
   "cell_type": "markdown",
   "metadata": {},
   "source": [
    "\n",
    "1. **Como é que podem ser agrupados os consumidores residenciais com base nos seus comportamentos típicos de consumo de eletricidade?**\n",
    "   Podemos agrupar os consumidores residenciais com base nos seus padrões de consumo de eletricidade utilizando o algoritmo K-means. Este algoritmo divide os consumidores em clusters com base na similaridade dos seus padrões de consumo, permitindo uma segmentação eficaz.\n",
    "\n",
    "2. **Quantos clusters ou grupos distintos de consumidores podem ser identificados?**\n",
    "   Utilizando o método do cotovelo e o índice de Silhouette, determinamos o número ideal de clusters que melhor representa a estrutura dos dados. No nosso caso, identificamos que o número ótimo de clusters é 3.\n",
    "\n",
    "3. **Quais são as características típicas de cada grupo de consumidore?** Ao analisar os clusters identificados, percebemos que cada grupo de consumidores apresenta padrões de consumo únicos. No Cluster 1, observamos um perfil de consumidores com baixo consumo médio, mas com picos moderados durante o dia. No Cluster 2, encontramos consumidores com um consumo médio mais elevado, caracterizado por picos de consumo mais acentuados em determinados períodos do dia. Por fim, no Cluster 3, identificamos consumidores com consumo médio e padrões de consumo mais uniformes ao longo do dia.da grupo.\n",
    "\n",
    "4. **Como é que os fornecedores de energia podem usar estas informações para compreender melhor os consumidores e tomar decisões mais informadas?**\n",
    "   Os fornecedores de energia podem utilizar estas informações para melhor compreender as necessidades e preferências dos consumidores. Por exemplo, podem personalizar as suas estratégias de marketing e oferta de serviços com base nos diferentes perfis de consumo identificados em cada grupo. Além disso, podem desenvolver estratégias para gerir a energia de forma ma. Como por exemplo,ciente, como incentivando a adoção de medidas de eficiência energética específicas para cada grupo. Desta forma, os fornecedores de energia podem tomar decisões mais informadas e eficazes para melhor atender às necessidades dos consumidores."
   ]
  }
 ],
 "metadata": {
  "kernelspec": {
   "display_name": "vscode_pyspark",
   "language": "python",
   "name": "vscode_pyspark"
  },
  "language_info": {
   "codemirror_mode": {
    "name": "ipython",
    "version": 3
   },
   "file_extension": ".py",
   "mimetype": "text/x-python",
   "name": "python",
   "nbconvert_exporter": "python",
   "pygments_lexer": "ipython3",
   "version": "3.11.8"
  }
 },
 "nbformat": 4,
 "nbformat_minor": 4
}
