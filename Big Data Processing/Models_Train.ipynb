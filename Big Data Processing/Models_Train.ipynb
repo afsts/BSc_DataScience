{
 "cells": [
  {
   "cell_type": "markdown",
   "metadata": {},
   "source": [
    "## Análise do Consumo Energético e Clustering de Consumidores\n",
    "\n",
    "### Introdução\n",
    "\n",
    "Este notebook aborda a análise de agrupamento (clustering) aplicada aos dados de consumo de energia. O objetivo principal é identificar padrões de consumo e segmentar os consumidores com base nos seus padrões de consumo de energia."
   ]
  },
  {
   "cell_type": "code",
   "execution_count": 1,
   "metadata": {},
   "outputs": [],
   "source": [
    "#import findspark\n",
    "#findspark.init()\n",
    "#findspark.find()\n",
    "\n",
    "import pyspark\n",
    "from pyspark.sql import SparkSession\n",
    "from pyspark.sql import SparkSession\n",
    "from pyspark.sql.types import *\n",
    "import pyspark.sql.functions as F\n",
    "from pyspark.ml.feature import VectorAssembler \n",
    "from pyspark.ml.feature import MinMaxScaler\n",
    "from pyspark.ml.clustering import KMeans \n",
    "from pyspark.ml.evaluation import ClusteringEvaluator \n",
    "import matplotlib.pyplot as plt \n",
    "from pyspark.ml import Pipeline\n",
    "\n",
    "# build our SparkSession\n",
    "\n",
    "spark = SparkSession\\\n",
    "        .builder\\\n",
    "        .appName(\"TrabalhoFinal\")\\\n",
    "        .config(\"spark.sql.shuffle.partitions\",6)\\\n",
    "        .config(\"spark.sql.repl.eagereval.enabled\",True)\\\n",
    "        .getOrCreate()"
   ]
  },
  {
   "cell_type": "markdown",
   "metadata": {},
   "source": [
    "##### Função para Calcular Estatísticas de Energia"
   ]
  },
  {
   "cell_type": "code",
   "execution_count": 2,
   "metadata": {},
   "outputs": [],
   "source": [
    "def compute_energy_stats(df):\n",
    "    \"\"\"\n",
    "    Function to compute various energy statistics.\n",
    "\n",
    "    Parameters:\n",
    "    df (DataFrame): The input Spark DataFrame.\n",
    "\n",
    "    Returns:\n",
    "    DataFrame: The resulting DataFrame with aggregated statistics.\n",
    "    \"\"\"\n",
    "    # Calculate overall consumption statistics\n",
    "    overall_stats = df.groupBy(\"LCLid\").agg(\n",
    "        F.mean(\"energy(kWh/hh)\").cast(\"float\").alias(\"Consume_mean\"),\n",
    "        F.max(\"energy(kWh/hh)\").cast(\"float\").alias(\"Consume_max\"),\n",
    "        F.min(\"energy(kWh/hh)\").cast(\"float\").alias(\"Consume_min\")\n",
    "    )\n",
    "\n",
    "    # Calculate mean consumption for each period of the day\n",
    "    period_means = df.groupBy(\"LCLid\").pivot(\"period_of_day\").agg(\n",
    "        F.mean(\"energy(kWh/hh)\").cast(\"float\").alias(\"Consume_mean\")\n",
    "    ).select(\n",
    "        F.col(\"LCLid\"),\n",
    "        F.col(\"Morning\").alias(\"Consume_mean_Morning\"),\n",
    "        F.col(\"Noon\").alias(\"Consume_mean_Noon\"),\n",
    "        F.col(\"Evening\").alias(\"Consume_mean_Evening\"),\n",
    "        F.col(\"Night\").alias(\"Consume_mean_Night\")\n",
    "    )\n",
    "\n",
    "    # Calculate minimum and maximum consumption day\n",
    "    day_stats = df.groupBy(\"LCLid\", \"day\").agg(\n",
    "        F.sum(\"energy(kWh/hh)\").cast(\"float\").alias(\"daily_energy\")\n",
    "    ).groupBy(\"LCLid\").agg(\n",
    "        F.min(\"daily_energy\").cast(\"float\").alias(\"Min_Day\"),\n",
    "        F.max(\"daily_energy\").cast(\"float\").alias(\"Max_Day\")\n",
    "    )\n",
    "\n",
    "    # Combine all statistics into one DataFrame\n",
    "    final_df = overall_stats.join(period_means, on=\"LCLid\", how=\"left\") \\\n",
    "                            .join(day_stats, on=\"LCLid\", how=\"left\")\n",
    "\n",
    "    return final_df\n",
    "\n"
   ]
  },
  {
   "cell_type": "markdown",
   "metadata": {},
   "source": [
    "##### Carregamento dos Dados"
   ]
  },
  {
   "cell_type": "code",
   "execution_count": 4,
   "metadata": {},
   "outputs": [],
   "source": [
    "dados_final = spark.read.parquet('dados_final_parquet')"
   ]
  },
  {
   "cell_type": "code",
   "execution_count": 5,
   "metadata": {},
   "outputs": [
    {
     "name": "stdout",
     "output_type": "stream",
     "text": [
      "root\n",
      " |-- LCLid: string (nullable = true)\n",
      " |-- time: timestamp (nullable = true)\n",
      " |-- energy(kWh/hh): string (nullable = true)\n",
      " |-- stdorToU: string (nullable = true)\n",
      " |-- Acorn: string (nullable = true)\n",
      " |-- Acorn_grouped: string (nullable = true)\n",
      " |-- temperature: float (nullable = true)\n",
      " |-- apparentTemperature: float (nullable = true)\n",
      " |-- precipType: string (nullable = true)\n",
      " |-- humidity: float (nullable = true)\n",
      " |-- summary: string (nullable = true)\n",
      " |-- period_of_day: string (nullable = true)\n",
      " |-- weekend: integer (nullable = true)\n",
      " |-- month: integer (nullable = true)\n",
      " |-- day: integer (nullable = true)\n",
      " |-- hour: integer (nullable = true)\n",
      "\n"
     ]
    }
   ],
   "source": [
    "dados_final = dados_final.withColumn('temperature', F.col('temperature').cast('float'))\n",
    "dados_final = dados_final.withColumn('apparentTemperature', F.col('apparentTemperature').cast('float'))\n",
    "dados_final = dados_final.withColumn('humidity', F.col('humidity').cast('float'))\n",
    "\n",
    "dados_final.printSchema()\n"
   ]
  },
  {
   "cell_type": "code",
   "execution_count": 6,
   "metadata": {},
   "outputs": [
    {
     "name": "stdout",
     "output_type": "stream",
     "text": [
      "+---------+-------------------+--------------+--------+-------+-------------+-----------+-------------------+----------+--------+-------------+-------------+-------+-----+---+----+\n",
      "|LCLid    |time               |energy(kWh/hh)|stdorToU|Acorn  |Acorn_grouped|temperature|apparentTemperature|precipType|humidity|summary      |period_of_day|weekend|month|day|hour|\n",
      "+---------+-------------------+--------------+--------+-------+-------------+-----------+-------------------+----------+--------+-------------+-------------+-------+-----+---+----+\n",
      "|MAC000071|2013-01-01 00:00:00| 0.113        |ToU     |ACORN-J|Comfortable  |7.01       |3.66               |rain      |0.73    |Partly Cloudy|Night        |0      |1    |1  |0   |\n",
      "|MAC000071|2013-01-01 00:30:00| 0.062        |ToU     |ACORN-J|Comfortable  |7.01       |3.66               |rain      |0.73    |Partly Cloudy|Night        |0      |1    |1  |0   |\n",
      "|MAC000071|2013-01-01 01:00:00| 0.107        |ToU     |ACORN-J|Comfortable  |7.49       |4.24               |rain      |0.72    |Partly Cloudy|Night        |0      |1    |1  |1   |\n",
      "|MAC000071|2013-01-01 01:30:00| 0.069        |ToU     |ACORN-J|Comfortable  |7.49       |4.24               |rain      |0.72    |Partly Cloudy|Night        |0      |1    |1  |1   |\n",
      "|MAC000071|2013-01-01 02:00:00| 0.102        |ToU     |ACORN-J|Comfortable  |7.16       |3.74               |rain      |0.68    |Partly Cloudy|Night        |0      |1    |1  |2   |\n",
      "|MAC000071|2013-01-01 02:30:00| 0.073        |ToU     |ACORN-J|Comfortable  |7.16       |3.74               |rain      |0.68    |Partly Cloudy|Night        |0      |1    |1  |2   |\n",
      "|MAC000071|2013-01-01 03:00:00| 0.099        |ToU     |ACORN-J|Comfortable  |7.04       |3.89               |rain      |0.68    |Partly Cloudy|Night        |0      |1    |1  |3   |\n",
      "|MAC000071|2013-01-01 03:30:00| 0.079        |ToU     |ACORN-J|Comfortable  |7.04       |3.89               |rain      |0.68    |Partly Cloudy|Night        |0      |1    |1  |3   |\n",
      "|MAC000071|2013-01-01 04:00:00| 0.091        |ToU     |ACORN-J|Comfortable  |6.29       |3.34               |rain      |0.73    |Partly Cloudy|Night        |0      |1    |1  |4   |\n",
      "|MAC000071|2013-01-01 04:30:00| 0.085        |ToU     |ACORN-J|Comfortable  |6.29       |3.34               |rain      |0.73    |Partly Cloudy|Night        |0      |1    |1  |4   |\n",
      "+---------+-------------------+--------------+--------+-------+-------------+-----------+-------------------+----------+--------+-------------+-------------+-------+-----+---+----+\n",
      "only showing top 10 rows\n",
      "\n"
     ]
    },
    {
     "data": {
      "text/plain": [
       "93024229"
      ]
     },
     "execution_count": 6,
     "metadata": {},
     "output_type": "execute_result"
    }
   ],
   "source": [
    "dados_final.show(10,truncate=False)\n",
    "\n",
    "dados_final.count()"
   ]
  },
  {
   "cell_type": "markdown",
   "metadata": {},
   "source": [
    "##### Amostragem dos Dados\n",
    "Df de teste (10% do original)"
   ]
  },
  {
   "cell_type": "code",
   "execution_count": 7,
   "metadata": {},
   "outputs": [],
   "source": [
    "df_test = dados_final.sample(False, 0.1, seed=42)\n"
   ]
  },
  {
   "cell_type": "code",
   "execution_count": 8,
   "metadata": {},
   "outputs": [
    {
     "data": {
      "text/plain": [
       "9303458"
      ]
     },
     "execution_count": 8,
     "metadata": {},
     "output_type": "execute_result"
    }
   ],
   "source": [
    "df_test.count()"
   ]
  },
  {
   "cell_type": "markdown",
   "metadata": {},
   "source": [
    "A amostra de 10% dos dados contém 9303458 registos."
   ]
  },
  {
   "cell_type": "code",
   "execution_count": 9,
   "metadata": {},
   "outputs": [
    {
     "data": {
      "text/plain": [
       "5528"
      ]
     },
     "execution_count": 9,
     "metadata": {},
     "output_type": "execute_result"
    }
   ],
   "source": [
    "df_test.select(\"LCLid\").distinct().count()"
   ]
  },
  {
   "cell_type": "markdown",
   "metadata": {},
   "source": [
    "Dentro da amostra, há 5528 residências distintas (`LCLid`)."
   ]
  },
  {
   "cell_type": "code",
   "execution_count": 10,
   "metadata": {},
   "outputs": [
    {
     "name": "stdout",
     "output_type": "stream",
     "text": [
      "-RECORD 0---------------------------\n",
      " LCLid                | MAC000002   \n",
      " Consume_mean         | 0.24050856  \n",
      " Consume_max          | 2.201       \n",
      " Consume_min          | 0.066       \n",
      " Consume_mean_Morning | 0.19414712  \n",
      " Consume_mean_Noon    | 0.24366121  \n",
      " Consume_mean_Evening | 0.34832537  \n",
      " Consume_mean_Night   | 0.1683458   \n",
      " Min_Day              | 5.8         \n",
      " Max_Day              | 21.445      \n",
      "-RECORD 1---------------------------\n",
      " LCLid                | MAC000003   \n",
      " Consume_mean         | 0.40956765  \n",
      " Consume_max          | 3.373       \n",
      " Consume_min          | 0.007       \n",
      " Consume_mean_Morning | 0.3045663   \n",
      " Consume_mean_Noon    | 0.16305761  \n",
      " Consume_mean_Evening | 0.16824828  \n",
      " Consume_mean_Night   | 0.9719261   \n",
      " Min_Day              | 10.63       \n",
      " Max_Day              | 35.855      \n",
      "-RECORD 2---------------------------\n",
      " LCLid                | MAC000004   \n",
      " Consume_mean         | 0.03583039  \n",
      " Consume_max          | 0.473       \n",
      " Consume_min          | 0.0         \n",
      " Consume_mean_Morning | 0.03193584  \n",
      " Consume_mean_Noon    | 0.03615565  \n",
      " Consume_mean_Evening | 0.037380647 \n",
      " Consume_mean_Night   | 0.037666667 \n",
      " Min_Day              | 0.774       \n",
      " Max_Day              | 3.421       \n",
      "-RECORD 3---------------------------\n",
      " LCLid                | MAC000005   \n",
      " Consume_mean         | 0.091003224 \n",
      " Consume_max          | 1.86        \n",
      " Consume_min          | 0.01        \n",
      " Consume_mean_Morning | 0.08955581  \n",
      " Consume_mean_Noon    | 0.107866965 \n",
      " Consume_mean_Evening | 0.13524842  \n",
      " Consume_mean_Night   | 0.034464646 \n",
      " Min_Day              | 2.589       \n",
      " Max_Day              | 7.961       \n",
      "-RECORD 4---------------------------\n",
      " LCLid                | MAC000006   \n",
      " Consume_mean         | 0.05966043  \n",
      " Consume_max          | 0.627       \n",
      " Consume_min          | 0.0         \n",
      " Consume_mean_Morning | 0.07060909  \n",
      " Consume_mean_Noon    | 0.058914006 \n",
      " Consume_mean_Evening | 0.07782258  \n",
      " Consume_mean_Night   | 0.030832559 \n",
      " Min_Day              | 1.916       \n",
      " Max_Day              | 4.46        \n",
      "only showing top 5 rows\n",
      "\n"
     ]
    },
    {
     "data": {
      "text/plain": [
       "5528"
      ]
     },
     "execution_count": 10,
     "metadata": {},
     "output_type": "execute_result"
    }
   ],
   "source": [
    "df_test_all = compute_energy_stats(df_test)\n",
    "df_test_all.show(5, truncate=False,vertical=True)\n",
    "\n",
    "df_test_all.count()"
   ]
  },
  {
   "cell_type": "markdown",
   "metadata": {},
   "source": [
    "### Modeling"
   ]
  },
  {
   "cell_type": "markdown",
   "metadata": {},
   "source": [
    "Para preparar os dados para a modelação, foi necessário criar um vetor de características que representasse as variáveis relevantes para o nosso estudo. Para isso, selecionámos as seguintes variáveis: `Consume_mean`, `Consume_max`, `Consume_min`, `Consume_mean_Morning`, `Consume_mean_Noon`, `Consume_mean_Evening`, `Consume_mean_Night`, `Min_Day` e `Max_Day`. Estas variáveis foram então combinadas num único vetor de características utilizando a função VectorAssembler, que cria um novo vetor chamado 'features'. Para garantir a qualidade dos dados, foi utilizado o parametro `handleInvalid=skip`, que ignora quaisquer linhas com valores inválidos durante este processo. O resultado deste processo pode ser visualizado no DataFrame 'final_data', onde cada linha representa uma instância de dados e a coluna 'features' contém o vetor de características resultante."
   ]
  },
  {
   "cell_type": "code",
   "execution_count": 11,
   "metadata": {},
   "outputs": [
    {
     "name": "stdout",
     "output_type": "stream",
     "text": [
      "+---------+------------+-----------+-----------+--------------------+-----------------+--------------------+------------------+-------+-------+----------------------------------------------------------------------------------------------------------------------------------------------------------------------------------+\n",
      "|LCLid    |Consume_mean|Consume_max|Consume_min|Consume_mean_Morning|Consume_mean_Noon|Consume_mean_Evening|Consume_mean_Night|Min_Day|Max_Day|features                                                                                                                                                                          |\n",
      "+---------+------------+-----------+-----------+--------------------+-----------------+--------------------+------------------+-------+-------+----------------------------------------------------------------------------------------------------------------------------------------------------------------------------------+\n",
      "|MAC000002|0.24050856  |2.201      |0.066      |0.19414712          |0.24366121       |0.34832537          |0.1683458         |5.8    |21.445 |[0.2405085563659668,2.2009999752044678,0.06599999964237213,0.19414712488651276,0.24366120994091034,0.34832537174224854,0.16834579408168793,5.800000190734863,21.44499969482422]   |\n",
      "|MAC000003|0.40956765  |3.373      |0.007      |0.3045663           |0.16305761       |0.16824828          |0.9719261         |10.63  |35.855 |[0.409567654132843,3.372999906539917,0.007000000216066837,0.30456629395484924,0.1630576103925705,0.1682482808828354,0.9719260931015015,10.630000114440918,35.85499954223633]      |\n",
      "|MAC000004|0.03583039  |0.473      |0.0        |0.03193584          |0.03615565       |0.037380647         |0.037666667       |0.774  |3.421  |[0.03583038970828056,0.4729999899864197,0.0,0.03193584084510803,0.03615564852952957,0.0373806469142437,0.03766666725277901,0.7739999890327454,3.4210000038146973]                 |\n",
      "|MAC000005|0.091003224 |1.86       |0.01       |0.08955581          |0.107866965      |0.13524842          |0.034464646       |2.589  |7.961  |[0.09100322425365448,1.8600000143051147,0.009999999776482582,0.08955580741167068,0.10786696523427963,0.13524842262268066,0.03446464613080025,2.5889999866485596,7.960999965667725]|\n",
      "|MAC000006|0.05966043  |0.627      |0.0        |0.07060909          |0.058914006      |0.07782258          |0.030832559       |1.916  |4.46   |[0.05966043099761009,0.6269999742507935,0.0,0.07060909271240234,0.058914005756378174,0.07782258093357086,0.030832558870315552,1.9160000085830688,4.460000038146973]               |\n",
      "+---------+------------+-----------+-----------+--------------------+-----------------+--------------------+------------------+-------+-------+----------------------------------------------------------------------------------------------------------------------------------------------------------------------------------+\n",
      "only showing top 5 rows\n",
      "\n"
     ]
    }
   ],
   "source": [
    "inputCols= ['Consume_mean' ,'Consume_max' ,'Consume_min','Consume_mean_Morning' ,'Consume_mean_Noon','Consume_mean_Evening','Consume_mean_Night', 'Min_Day','Max_Day']\n",
    "  \n",
    "vec_assembler = VectorAssembler(inputCols=inputCols, outputCol='features', handleInvalid='skip')\n",
    "\n",
    "# Transform the DataFrame\n",
    "final_data = vec_assembler.transform(df_test_all)\n",
    "\n",
    "final_data.show(5, truncate=False)\n"
   ]
  },
  {
   "cell_type": "markdown",
   "metadata": {},
   "source": [
    "Após a criação do vetor de características, foi necessário normalizar os valores das características para garantir que todas as variáveis tenham a mesma escala. Para realizar esta normalização, utilizou-se a técnica de Min-Max Scaling, que redimensiona os valores das características para um intervalo específico (normalmente [0,1]).\n",
    "\n",
    "Primeiro, inicializámos o MinMaxScaler especificando a coluna de entrada como 'features' e a coluna de saída como 'scaled_features'. Em seguida, ajustou-se o modelo de normalização aos dados de treino utilizando a função 'fit', que calcula as estatísticas resumidas necessárias para normalizar os dados. Posteriormente, aplicou-se a transformação de normalização aos dados de treino utilizando o modelo ajustado.\n",
    "\n",
    "O resultado da normalização pode ser visualizado no DataFrame 'final_data', onde a coluna 'scaled_features' contém as características normalizadas para cada instância de dados."
   ]
  },
  {
   "cell_type": "code",
   "execution_count": 12,
   "metadata": {},
   "outputs": [
    {
     "name": "stdout",
     "output_type": "stream",
     "text": [
      "+----------------------------------------------------------------------------------------------------------------------------------------------------------------------------------------+\n",
      "|scaled_features                                                                                                                                                                         |\n",
      "+----------------------------------------------------------------------------------------------------------------------------------------------------------------------------------------+\n",
      "|[0.1031588766715947,0.22472943117521912,0.08375634604157832,0.09443738771012385,0.11691875633507302,0.1430966405579915,0.029815274374857276,0.07532956664505526,0.13294607595056449]    |\n",
      "|[0.17567166740244497,0.3443945292549879,0.008883249144922946,0.14814767513277632,0.07824180559019428,0.0691186049800774,0.17213523685565302,0.13806090960770576,0.22227939194142657]    |\n",
      "|[0.015368362809460218,0.04829487500819153,0.0,0.015534288161625982,0.017348980010342043,0.015356461025385413,0.006671042927173541,0.010052600317195324,0.021208138624678966]            |\n",
      "|[0.039033082769892834,0.18991219895941022,0.012690355245957663,0.0435618941623413,0.05175904456802524,0.05556182950805607,0.006103941510552703,0.033625558728400604,0.04935340271110123]|\n",
      "|[0.025589538835748212,0.06401878652777725,0.0,0.034345799703390044,0.028269383893412898,0.031970539026329806,0.0054606722277322035,0.024884731998637718,0.027649312765162443]           |\n",
      "+----------------------------------------------------------------------------------------------------------------------------------------------------------------------------------------+\n",
      "only showing top 5 rows\n",
      "\n"
     ]
    }
   ],
   "source": [
    "# Initialize the MinMaxScaler\n",
    "scaler = MinMaxScaler(inputCol='features', outputCol='scaled_features')\n",
    "\n",
    "# Compute summary statistics and generate MinMaxScalerModel\n",
    "scaler_model = scaler.fit(final_data)\n",
    "\n",
    "# Scale features\n",
    "final_data = scaler_model.transform(final_data)\n",
    "\n",
    "# Show the scaled features\n",
    "final_data.select('scaled_features').show(5, truncate=False)"
   ]
  },
  {
   "cell_type": "code",
   "execution_count": 98,
   "metadata": {},
   "outputs": [
    {
     "name": "stdout",
     "output_type": "stream",
     "text": [
      "Silhouette Score for k = 2 is 0.7080202507605187\n",
      "Silhouette Score for k = 3 is 0.6185256534400146\n",
      "Silhouette Score for k = 4 is 0.5479109502052396\n",
      "Silhouette Score for k = 5 is 0.5033056660418879\n",
      "Silhouette Score for k = 6 is 0.48531448276795314\n",
      "Silhouette Score for k = 7 is 0.35533650942423667\n",
      "Silhouette Score for k = 8 is 0.35513470268939007\n",
      "Silhouette Score for k = 9 is 0.37043427235911874\n"
     ]
    }
   ],
   "source": [
    "silhouette_score=[] \n",
    "\n",
    "evaluator = ClusteringEvaluator(predictionCol='prediction', \n",
    "\t\t\t\t\t\t\t\tfeaturesCol='scaled_features',\n",
    "\t\t\t\t\t\t\t\tmetricName='silhouette', \n",
    "\t\t\t\t\t\t\t\tdistanceMeasure='squaredEuclidean') \n",
    "\n",
    "for i in range(2,10): \n",
    "\tkmeans=KMeans(featuresCol='scaled_features', k=i, seed=123) \n",
    "\tmodel=kmeans.fit(final_data) \n",
    "\tpredictions=model.transform(final_data) \n",
    "\tscore=evaluator.evaluate(predictions) \n",
    "\tsilhouette_score.append(score) \n",
    "\tprint('Silhouette Score for k =',i,'is',score)\n"
   ]
  },
  {
   "cell_type": "markdown",
   "metadata": {},
   "source": [
    "Calculou-se o score de silhueta para cada k no intervalo de 2 a 9. O score de silhueta mede a coesão e a separação dos clusters, ajudando a determinar a qualidade da clusterização. Valores mais próximos de 1 indicam uma clusterização mais densa e bem separada."
   ]
  },
  {
   "cell_type": "code",
   "execution_count": 100,
   "metadata": {},
   "outputs": [
    {
     "data": {
      "image/png": "[encoded data removed]",
      "text/plain": [
       "<Figure size 640x480 with 1 Axes>"
      ]
     },
     "metadata": {},
     "output_type": "display_data"
    }
   ],
   "source": [
    "plt.plot(range(2,10),silhouette_score) \n",
    "plt.xlabel('k') \n",
    "plt.ylabel('silhouette score') \n",
    "plt.title('Silhouette Score') \n",
    "plt.show()"
   ]
  },
  {
   "cell_type": "markdown",
   "metadata": {},
   "source": [
    "Com base na análise do gráfico de cotovelo, observa-se uma queda significativa no aumento do score de silhueta após k=3. Além disso, escolheu-se k=3 porque este valor proporciona um equilíbrio entre a separação adequada dos clusters e a complexidade do modelo. Portanto, decidiu-se selecionar k=3 como o número ideal de clusters para a análise."
   ]
  },
  {
   "cell_type": "markdown",
   "metadata": {},
   "source": [
    "Treina-se um modelo K-Means com 3 clusters usando os dados finais já normalizados. O algoritmo K-Means agrupará os dados em três clusters com base nas características contidas na coluna \"scaled_features\".\n",
    "\n",
    "O modelo treinado é armazenado na variável \"model\", enquanto as previsões dos clusters para os dados de entrada são geradas e armazenadas na variável \"predictions\"."
   ]
  },
  {
   "cell_type": "code",
   "execution_count": 13,
   "metadata": {},
   "outputs": [],
   "source": [
    "\n",
    "# Trains a k-means model. \n",
    "kmeans = KMeans(featuresCol='scaled_features',k=3, seed=123) \n",
    "model = kmeans.fit(final_data) \n",
    "predictions = model.transform(final_data)"
   ]
  },
  {
   "cell_type": "markdown",
   "metadata": {},
   "source": [
    "Posteriormente, calculam-se os centros dos clusters gerados pelo modelo K-Means e cria-se um DataFrame para representá-los de forma mais organizada.\n",
    "\n",
    "1. Primeiro, obtem-se os centros dos clusters usando o método `clusterCenters()` do modelo K-Means, armazenando-os na variável `centers`.\n",
    "2. De seguida, itera-se sobre os centros dos clusters e cria-se um dicionário `row_data` para cada centro, onde as chaves correspondem aos nomes das características e os valores são os respectivos valores do centro.\n",
    "3. Cada dicionário `row_data` é convertido num objeto `Row` e adicionado à lista `data`.\n",
    "4. Define-se o esquema do DataFrame especificando os nomes das colunas e os tipos de dados.\n",
    "5. Utilizando o esquema definido, cria-se um DataFrame chamado `cluster_centers_df` a partir da lista de dados `data`.\n",
    "6. Por fim, exibe-se o DataFrame `cluster_centers_df`, que mostra os centros dos clusters com as características correspondentes em colunas separadas."
   ]
  },
  {
   "cell_type": "code",
   "execution_count": 14,
   "metadata": {},
   "outputs": [
    {
     "name": "stdout",
     "output_type": "stream",
     "text": [
      "+------------+-----------+-----------+--------------------+-----------------+--------------------+------------------+----------+-----------+\n",
      "|Consume_mean|Consume_max|Consume_min|Consume_mean_Morning|Consume_mean_Noon|Consume_mean_Evening|Consume_mean_Night|   Min_Day|    Max_Day|\n",
      "+------------+-----------+-----------+--------------------+-----------------+--------------------+------------------+----------+-----------+\n",
      "|  0.05330972| 0.12908413|0.021310782|         0.057795502|       0.06503283|          0.06961891|      0.0130209215|0.04633711|0.061931286|\n",
      "|   0.2937032|  0.3902783| 0.11512419|          0.32474813|        0.3505345|          0.35116425|        0.08608117|0.24990796| 0.32726064|\n",
      "|  0.12606068| 0.24579746|0.050768673|          0.13470587|       0.15380688|          0.16171429|        0.03264286|0.11156876| 0.14771971|\n",
      "+------------+-----------+-----------+--------------------+-----------------+--------------------+------------------+----------+-----------+\n",
      "\n"
     ]
    }
   ],
   "source": [
    "centers = model.clusterCenters() \n",
    "# List to hold the data\n",
    "data = []\n",
    "\n",
    "# Iterate over the cluster centers and create a Row for each center\n",
    "for i, center in enumerate(centers):\n",
    "    row_data = {\n",
    "        \"Consume_mean\": float(center[0]),\n",
    "        \"Consume_max\": float(center[1]),\n",
    "        \"Consume_min\": float(center[2]),\n",
    "        \"Consume_mean_Morning\": float(center[3]),\n",
    "        \"Consume_mean_Noon\": float(center[4]),\n",
    "        \"Consume_mean_Evening\": float(center[5]),\n",
    "        \"Consume_mean_Night\": float(center[6]),\n",
    "        \"Min_Day\": float(center[7]),\n",
    "        \"Max_Day\": float(center[8])\n",
    "    }\n",
    "    # Append the Row to the data list\n",
    "    data.append(Row(**row_data))\n",
    "\n",
    "# Define the schema for the DataFrame\n",
    "schema = StructType([\n",
    "    StructField(\"Consume_mean\", FloatType(), nullable=True),\n",
    "    StructField(\"Consume_max\", FloatType(), nullable=True),\n",
    "    StructField(\"Consume_min\", FloatType(), nullable=True),\n",
    "    StructField(\"Consume_mean_Morning\", FloatType(), nullable=True),\n",
    "    StructField(\"Consume_mean_Noon\", FloatType(), nullable=True),\n",
    "    StructField(\"Consume_mean_Evening\", FloatType(), nullable=True),\n",
    "    StructField(\"Consume_mean_Night\", FloatType(), nullable=True),\n",
    "    StructField(\"Min_Day\", FloatType(), nullable=True),\n",
    "    StructField(\"Max_Day\", FloatType(), nullable=True)\n",
    "])\n",
    "\n",
    "# Create DataFrame using the specified schema\n",
    "cluster_centers_df = spark.createDataFrame(data, schema=schema)\n",
    "\n",
    "# Show the DataFrame\n",
    "cluster_centers_df.show()"
   ]
  },
  {
   "cell_type": "markdown",
   "metadata": {},
   "source": [
    "Calculo do coeficiente de silhueta para avaliar a qualidade dos clusters produzidos pelo modelo K-Means. Um valor próximo de 1 indica que os objetos estão bem agrupados, enquanto valores próximos de -1 indicam que os objetos estão mal agrupados.\n",
    "\n",
    "Usou-se o `ClusteringEvaluator` para calcular o coeficiente de silhueta. "
   ]
  },
  {
   "cell_type": "code",
   "execution_count": 22,
   "metadata": {},
   "outputs": [
    {
     "name": "stdout",
     "output_type": "stream",
     "text": [
      "Silhouette with squared euclidean distance = 0.6185256534400146\n"
     ]
    }
   ],
   "source": [
    "silhouette = evaluator.evaluate(predictions) \n",
    "print(\"Silhouette with squared euclidean distance = \" + str(silhouette))"
   ]
  },
  {
   "cell_type": "markdown",
   "metadata": {},
   "source": [
    "O resultado foi um coeficiente de silhueta de aproximadamente 0.619, indicando uma boa estruturação dos clusters. Isto sugere que os objetos dentro de cada cluster estão mais próximos uns dos outros do que dos objetos noutros clusters, o que é uma boa indicação da qualidade dos clusters formados pelo modelo K-Means."
   ]
  },
  {
   "cell_type": "markdown",
   "metadata": {},
   "source": [
    "### PIPELINE\n",
    "\n",
    "Criação de um pipeline para agrupar várias etapas do processamento de dados. "
   ]
  },
  {
   "cell_type": "markdown",
   "metadata": {},
   "source": [
    "1. **Definição das Etapas do Pipeline:**\n",
    "   - `preprocessing_stage`: Utiliza o `VectorAssembler` para criar um conjunto de características a partir das colunas especificadas em `inputCols`, e resulta numa nova coluna chamada 'features'.\n",
    "   - `scaling_stage`: Utiliza o `MinMaxScaler` para dimensionar as características para um intervalo específico, criando uma nova coluna chamada 'scaled_features'.\n",
    "   - `clustering_stage`: Configura o modelo de K-Means para realizar a tarefa de agrupamento com base nas características escaladas.\n",
    "\n",
    "2. **Construção do Pipeline:**\n",
    "   - `pipeline`: Encadeia as etapas de pré-processamento, normalização e agrupamento.\n",
    "\n",
    "3. **Treino do Pipeline:**\n",
    "   - `pipeline_model`: Treina o pipeline utilizando os dados de treino `df_test_all`.\n",
    "\n",
    "4. **Salvar o Modelo Treinado:**\n",
    "   - `pipeline_model.save('clustering_model')`: Guarda o modelo treinado, que inclui todas as etapas do pipeline, para uso futuro.\n",
    "\n",
    "Este pipeline permite pré-processar, dimensionar e agrupar novos dados de acordo com a mesma estrutura aplicada aos dados de treino, assegurando consistência e reprodutibilidade no processo de agrupamento."
   ]
  },
  {
   "cell_type": "code",
   "execution_count": 130,
   "metadata": {},
   "outputs": [],
   "source": [
    "# Define the data preprocessing stage\n",
    "preprocessing_stage =  VectorAssembler(inputCols=inputCols, outputCol='features', handleInvalid='skip')\n",
    "\n",
    "# Define the scaling stage\n",
    "scaling_stage = MinMaxScaler(inputCol='features', outputCol='scaled_features')\n",
    "\n",
    "# Define the clustering stage\n",
    "clustering_stage = KMeans(featuresCol='scaled_features', k=3, seed=123)\n",
    "\n",
    "\n",
    "# Build the pipeline\n",
    "pipeline = Pipeline(stages=[preprocessing_stage, scaling_stage, clustering_stage])\n",
    "\n"
   ]
  },
  {
   "cell_type": "code",
   "execution_count": null,
   "metadata": {},
   "outputs": [],
   "source": [
    "# Define the directory path\n",
    "pipeline_path = \"clustering_pipeline\"\n",
    "\n",
    "# Save the pipeline\n",
    "pipeline.save(pipeline_path)\n",
    "\n"
   ]
  },
  {
   "cell_type": "code",
   "execution_count": 133,
   "metadata": {},
   "outputs": [],
   "source": [
    "# Fit the pipeline to the data\n",
    "pipeline_model = pipeline.fit(df_test_all)\n",
    "\n",
    "pipeline_model.save('clustering_model')"
   ]
  }
 ],
 "metadata": {
  "kernelspec": {
   "display_name": "vscode_pyspark",
   "language": "python",
   "name": "vscode_pyspark"
  },
  "language_info": {
   "codemirror_mode": {
    "name": "ipython",
    "version": 3
   },
   "file_extension": ".py",
   "mimetype": "text/x-python",
   "name": "python",
   "nbconvert_exporter": "python",
   "pygments_lexer": "ipython3",
   "version": "3.1.-1"
  }
 },
 "nbformat": 4,
 "nbformat_minor": 4
}
